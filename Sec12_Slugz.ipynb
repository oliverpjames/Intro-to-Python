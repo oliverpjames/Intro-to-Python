{
 "cells": [
  {
   "cell_type": "markdown",
   "metadata": {},
   "source": [
    "<div class=\"clearfix\" style=\"padding: 10px; padding-left: 0px\">\n",
    "<img src=\"unilogoblack.jpeg\" width=\"250px\" style=\"display: inline-block; margin-top: 5px;\">\n",
    "<a href=\"http://www.python.org\"><img src=\"Python-logo-notext.svg\" width=\"70px\" class=\"pull-right\" style=\"display: inline-block; margin: 0px;\"></a>\n",
    "</div>\n",
    "\n",
    "\n",
    "# Basic Scientific Python\n",
    "\n",
    "J. D. Nichols 2015\n",
    "\n",
    "\n",
    "## Section 12: Slugz!\n",
    "\n",
    "#### Task 12.1 Slugz!\n",
    "\n",
    "There is a well-known computer game called Worms$^\\mathrm{TM}$, in which two teams of worms are randomly placed on a randomly-generated 2D landscape, and they take pot shots at each other using grenades and bazookas etc. until the energy of one team is reduced to 0 and a winner is declared.  Using the techniques you have come across in this course, the final task is to create using Python, Matplotlib and Numpy a (crude) approximation of this game, called Slugz!  Here are some pointers:\n",
    "\n",
    "* Create rectangular window with a blue background\n",
    "* Create an `Axis` whose boundaries are on the edge of the `FigureCanvas`, and set the limits of the axis to be some suitable numbers, e.g. 1200 x 900.\n",
    "* Create a random series of numbers, cumulatively sum and then smooth them to generate the boundary of the land\n",
    "* Fill between the land and the bottom of the screen in green\n",
    "* Position the slugs randomly and draw them using `add_patch` and `mpatches.Ellipse`. It might be easiest to start with just one slug per team.\n",
    "* Each team takes it in turns to fire a grenade; grenades are affected by gravity only. Grenades explode after a set fuse time, so use a loop to step through the trajectory of the grenade and exit it after a certain time using `time.time()`.\n",
    "* When grenades bounce, they are reflected from the ground and their angle of incidence equals their angle of reflection.  Think about how you would find the components of the velocity parallel and perpendicular to the local land gradient.\n",
    "* If grenades disappear off the edge of the screen they are lost.\n",
    "* Blasts can be shown using e.g. `mpatches.CirclePolygon`.\n",
    "* Damage is calculated for each slug from the straight line distance between the blast centre and the slug.\n",
    "* Energy can be shown in energy bars at the top of the screen.\n",
    "* Clearly, the I/O system for Matplotlib was not designed for games!  Hence, the method of controlling the shots will not be as sophisticated as in the real thing.  You could think about requiring each player to enter an angle and a velocity for each grenade using the keyboard, for example.  \n",
    "\n",
    "Possible areas for extra credit:\n",
    "\n",
    "* Make it look nice, e.g. using a splash screen or arrows denoting the active player etc.\n",
    "* Have multiple slugs per team\n",
    "* Allow bazookas as well - these are affected by a random force in the horizontal direction\n",
    "* ...or shotguns - these fire immediately in a straight line.\n",
    "* Allow slugs to be scattered by a blast\n",
    "\n",
    "Serving suggestion:\n",
    "\n",
    "<img src=\"screenshot1.png\" width=\"70%\" style=\"display: inline-block; margin-top: 5px;\">\n",
    "<img src=\"screenshot2.png\" width=\"70%\" style=\"display: inline-block; margin-top: 5px;\">\n",
    "<img src=\"screenshot3.png\" width=\"70%\" style=\"display: inline-block; margin-top: 5px;\">\n",
    "\n",
    "\n"
   ]
  },
  {
   "cell_type": "markdown",
   "metadata": {},
   "source": [
    "<div class=\"alert alert-danger\" style=\"width: 60%; margin-left: 20%; margin-top:20px\">\n",
    "<p>**Fin**</p>\n",
    "</div>"
   ]
  }
 ],
 "metadata": {
  "kernelspec": {
   "display_name": "Python 2",
   "language": "python",
   "name": "python2"
  },
  "language_info": {
   "codemirror_mode": {
    "name": "ipython",
    "version": 2
   },
   "file_extension": ".py",
   "mimetype": "text/x-python",
   "name": "python",
   "nbconvert_exporter": "python",
   "pygments_lexer": "ipython2",
   "version": "2.7.12"
  }
 },
 "nbformat": 4,
 "nbformat_minor": 0
}
