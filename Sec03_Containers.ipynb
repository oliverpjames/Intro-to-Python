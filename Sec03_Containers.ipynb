{
 "cells": [
  {
   "cell_type": "markdown",
   "metadata": {},
   "source": [
    "<div class=\"clearfix\" style=\"padding: 10px; padding-left: 0px\">\n",
    "<img src=\"unilogoblack.jpeg\" width=\"250px\" style=\"display: inline-block; margin-top: 5px;\">\n",
    "<a href=\"http://www.python.org\"><img src=\"Python-logo-notext.svg\" width=\"70px\" class=\"pull-right\" style=\"display: inline-block; margin: 0px;\"></a>\n",
    "</div>\n",
    "\n",
    "\n",
    "# Basic Scientific Python\n",
    "\n",
    "J. D. Nichols 2015\n",
    "\n",
    "\n",
    "## Section 3: Container objects, or Sequences\n",
    "\n",
    "Crunching numbers generally requires doing calculations on bunches of values, and it is often useful to be able to collect numbers together in a single container.  However, Python allows more than simple numbers to be bunched together; it possesses a variety of so-called *container objects* or *sequences* (sometimes also called *iterables* depending on the context) that allow different data types to be lumped together in different ways.  We have met one of these already: the `string` type above, in which we saw that we could access part of each string by following the variable name with some numbers enclosed within square brackets.  Other container objects are *lists*, *tuples*, and *dictionaries*. Let's take a look at this further...  \n",
    "\n",
    "### Strings\n",
    "\n",
    "Execute the following line:"
   ]
  },
  {
   "cell_type": "code",
   "execution_count": 21,
   "metadata": {
    "collapsed": false
   },
   "outputs": [],
   "source": [
    "polly = 'Pining for the fjords!'"
   ]
  },
  {
   "cell_type": "markdown",
   "metadata": {},
   "source": [
    "We saw previosuly that we could access the first letter by typing \n",
    "\n",
    "```python\n",
    "print polly[0]\n",
    "```\n",
    "Do this in the following cell and note the result."
   ]
  },
  {
   "cell_type": "code",
   "execution_count": 2,
   "metadata": {
    "collapsed": false
   },
   "outputs": [
    {
     "name": "stdout",
     "output_type": "stream",
     "text": [
      "P\n"
     ]
    }
   ],
   "source": [
    "print polly[0]\n",
    "#print the first letter of string"
   ]
  },
  {
   "cell_type": "markdown",
   "metadata": {},
   "source": [
    "This tells us that the first letter in this string is accessed using the value 0. What about the second letter?  This is accessed by typing \n",
    "\n",
    "```python\n",
    "print polly[1]\n",
    "```\n",
    "\n",
    "...and so on.  We also saw that we could retrieve a range of letters from the string in one go by including a colon and a second number.  Execute the following cell:"
   ]
  },
  {
   "cell_type": "code",
   "execution_count": 3,
   "metadata": {
    "collapsed": false
   },
   "outputs": [
    {
     "name": "stdout",
     "output_type": "stream",
     "text": [
      "Pin\n",
      "ing for t\n",
      "ing for the fjords!\n",
      "Pining for the fjords\n",
      "Pining for the fjo\n",
      "igfr\n",
      "!sdrojf eht rof gniniP\n"
     ]
    }
   ],
   "source": [
    "print polly[0:3]\n",
    "print polly[3:12]\n",
    "print polly[3:]\n",
    "print polly[:-1]\n",
    "print polly[:-4]\n",
    "print polly[3:10:2]\n",
    "print polly[::-1]"
   ]
  },
  {
   "cell_type": "markdown",
   "metadata": {},
   "source": [
    "What's going on here?  The string can be thought of as being a list of characters, each with a number representing its place in the order, called its *index*, starting from zero, i.e.:\n",
    "\n",
    "| Letter        |  P  |  i  |  n  |  i  |  n  |  g  |     |  f  |  o  |  r  |     |  t  |  h  |  e |    |  f |  j |  o |  r |  d |  s |  ! |\n",
    "|---------------|:---:|:---:|:---:|:---:|:---:|:---:|:---:|:---:|:---:|:---:|:---:|:---:|:---:|:--:|:--:|:--:|:--:|:--:|:--:|:--:|:--:|:--:|\n",
    "| Index         |  0  |  1  |  2  |  3  |  4  |  5  |  6  |  7  |  8  |  9  |  10 |  11 |  12 | 13 | 14 | 15 | 16 | 17 | 18 | 19 | 20 | 21 |\n",
    "| Reverse index | -22 | -21 | -20 | -19 | -18 | -17 | -16 | -15 | -14 | -13 | -12 | -11 | -10 | -9 | -8 | -7 | -6 | -5 | -4 | -3 | -2 | -1 |\n",
    "\n",
    "\n",
    "\n",
    "<div class=\"alert alert-warning\" style=\"width: 60%; margin-left: 20%; margin-top:20px\">\n",
    "<p>**IMPORTANT!**</p>\n",
    "<p>Indices in Python start at zero!  This is not the case in all languages!</p>\n",
    "</div>\n",
    "\n",
    "Each index can be accessed using the square bracket syntax, i.e. \n",
    "\n",
    "```python\n",
    "print polly[0]\n",
    "```\n",
    "\n",
    "returns `'P'`, since this is the letter in the first index. This is called *indexing* the sequence. A string containing a range of indices is returned using a colon to separate the start and end indices. This is called *slicing* the sequence.\n",
    "\n",
    "<div class=\"alert alert-warning\" style=\"width: 60%; margin-left: 20%; margin-top:20px\">\n",
    "<p>**IMPORTANT!**</p>\n",
    "<p>A range [m:n] is **inclusive** of the value at index m and **exclusive** of the value at index n, i.e. the last index extracted is (n - 1)</p>\n",
    "</div>\n",
    "\n",
    "Hence, the range of `polly[0:3]` starts at the first letter, `'P'`, and finishes at index 3 - 1 = 2 ( letter `'n'`). Likewise, `polly[3:12]` begins at index 3 (`'i'`) and finished at index 12 - 1 = 11 (`'t'`).  If no second index is given, it is assumed that the range continues to the end of the list, and likewise if no first index is given, it is assumed that the range begins at the start.  Values at the end of the list can be accessed easily by counting down from the last value at index -1, such that `polly[0:-4]` starts at the beginning, and finishes at index -4 - 1 = -5, i.e. the fifth letter from the end (`'o'`).  A third colon delimits the step, such that e.g. a value of 2 means \"take every second letter\". Hence, polly[3:10:2] means \"start at index 3 and take every other letter until you get to index 9\", returning the 3rd, 5th, 7th, and 9th values (`'igfr'`).  Finally, a negative step means count backward, i.e. it provides a quick and convenient method of reversing sequences.\n",
    "\n",
    "#### Task 3.1\n",
    "In the cell below, write and execute code which does the following:\n",
    "\n",
    "* Take every character, from start to finish.\n",
    "* Take every other character, starting at the first.\n",
    "* Take every other character starting at the second.\n",
    "* Take every 5th character, starting from the fourth and finishing with the third from the end.\n",
    "* Starting from the fourth letter from the end, take every second letter backward, finishing with the third letter from the beginning.\n",
    "* Print one string containing `'Knights who say '` followed by the third, fourth and last character of `polly`.\n",
    "* Extract from `polly` the string `'ni! '`, similar to the above above, and assign it to another identifier. Create a string with this repeated 200 times.\n"
   ]
  },
  {
   "cell_type": "code",
   "execution_count": 26,
   "metadata": {
    "collapsed": false
   },
   "outputs": [
    {
     "name": "stdout",
     "output_type": "stream",
     "text": [
      "Pining for the fjords!\n",
      "Pnn o h jrs\n",
      "iigfrtefod!\n",
      "ioer\n",
      "rj h o n 2\n",
      "Knights who say ni!\n",
      "ni! ni! ni! ni! ni! ni! ni! ni! ni! ni! ni! ni! ni! ni! ni! ni! ni! ni! ni! ni! ni! ni! ni! ni! ni! ni! ni! ni! ni! ni! ni! ni! ni! ni! ni! ni! ni! ni! ni! ni! ni! ni! ni! ni! ni! ni! ni! ni! ni! ni! ni! ni! ni! ni! ni! ni! ni! ni! ni! ni! ni! ni! ni! ni! ni! ni! ni! ni! ni! ni! ni! ni! ni! ni! ni! ni! ni! ni! ni! ni! ni! ni! ni! ni! ni! ni! ni! ni! ni! ni! ni! ni! ni! ni! ni! ni! ni! ni! ni! ni! ni! ni! ni! ni! ni! ni! ni! ni! ni! ni! ni! ni! ni! ni! ni! ni! ni! ni! ni! ni! ni! ni! ni! ni! ni! ni! ni! ni! ni! ni! ni! ni! ni! ni! ni! ni! ni! ni! ni! ni! ni! ni! ni! ni! ni! ni! ni! ni! ni! ni! ni! ni! ni! ni! ni! ni! ni! ni! ni! ni! ni! ni! ni! ni! ni! ni! ni! ni! ni! ni! ni! ni! ni! ni! ni! ni! ni! ni! ni! ni! ni! ni! ni! ni! ni! ni! ni! ni! ni! ni! ni! ni! ni! ni! ni! ni! ni! ni! ni! ni! \n"
     ]
    }
   ],
   "source": [
    "print polly\n",
    "print polly[0::2]\n",
    "print polly[1::2]\n",
    "print polly[3:-2:5]\n",
    "print polly[-4:2:-2], 2\n",
    "print \"Knights who say \" + polly[2:4] + polly[-1]\n",
    "ni = polly[2:4] + polly[-1] + polly[6]\n",
    "print ni*200\n",
    "#places in [::] can be left blank\n",
    "#[i:] denotes, from index i to end\n",
    "#[:i] denotes, from beginning to index i\n",
    "#[::x] +ve x prints word as said by first colons, in steps of x, -ve prints in reverse\n",
    "#when counting backwards in letters have to put the last letter in the first colon\n",
    "#, writes one after the other\n",
    "#+ combines two parts of a string"
   ]
  },
  {
   "cell_type": "markdown",
   "metadata": {},
   "source": [
    "Uses of string manipulation in scientific coding include tasks such as building filepaths for data files or output plots, building labels and titles for plots, and working with date strings. \n",
    "\n",
    "We have seen here some simple ways of manipulating strings using indexing and slicing.  There are, however, other ways of manipulating strings in a way unique to strings, using what are called their *methods*. These are pieces of code that come along with any Python object, and perform operations associated with it.  To find out what methods are associated with an object, in the interpreter (or in the following cell) type the name of the object followed by a full stop '.', and press `<TAB>`.  The list of methods will appear.  If you wish to find out details of one, type its name, followed by a `'?'`, and its docstring will appear.  \n",
    "\n",
    "\n",
    "<div class=\"alert alert-info\" style=\"width: 60%; margin-left: 20%; margin-top:20px\">\n",
    "<p>**HINT**</p>\n",
    "<p>You can save some typing by using tab-completion: type enough letters to uniquely identify a method, press TAB and its name will complete automagically </p>\n",
    "</div>\n",
    "\n",
    "Press `<TAB>` in the following cell, complete some of the names of the methods and take a look at what they do:"
   ]
  },
  {
   "cell_type": "code",
   "execution_count": 48,
   "metadata": {
    "collapsed": false
   },
   "outputs": [
    {
     "data": {
      "text/plain": [
       "1"
      ]
     },
     "execution_count": 48,
     "metadata": {},
     "output_type": "execute_result"
    }
   ],
   "source": [
    "polly.find(\"i\")\n",
    "#capitals are different to lowecase"
   ]
  },
  {
   "cell_type": "markdown",
   "metadata": {},
   "source": [
    "You can see that there are a number of methods that operate on strings - the effects of some are (hopefully) obvious.  For example:"
   ]
  },
  {
   "cell_type": "code",
   "execution_count": 49,
   "metadata": {
    "collapsed": false
   },
   "outputs": [
    {
     "name": "stdout",
     "output_type": "stream",
     "text": [
      "Pining for the fjords!\n",
      "PINING FOR THE FJORDS!\n",
      "pining for the fjords!\n",
      "False\n",
      "True\n",
      "Pining For The Fjords!\n",
      "pINING FOR THE FJORDS!\n"
     ]
    }
   ],
   "source": [
    "print polly\n",
    "print polly.upper()\n",
    "print polly.lower()\n",
    "print polly.islower()\n",
    "print polly.lower().islower()\n",
    "print polly.title()\n",
    "print polly.swapcase()"
   ]
  },
  {
   "cell_type": "markdown",
   "metadata": {},
   "source": [
    "Some methods take *arguments* inside the brackets, that is some extra information that the code requires to do its job, e.g.:"
   ]
  },
  {
   "cell_type": "code",
   "execution_count": 50,
   "metadata": {
    "collapsed": false
   },
   "outputs": [
    {
     "name": "stdout",
     "output_type": "stream",
     "text": [
      "2\n",
      "Pining gor the gjords!\n",
      "Pining fum the fjumds!\n"
     ]
    }
   ],
   "source": [
    "print polly.count('f')\n",
    "print polly.replace('f', 'g')\n",
    "print polly.replace('or', 'um')"
   ]
  },
  {
   "cell_type": "markdown",
   "metadata": {},
   "source": [
    "A particularly useful method is `format`.  This lets you insert objects into the string, with a specified format.  For example:"
   ]
  },
  {
   "cell_type": "code",
   "execution_count": 56,
   "metadata": {
    "collapsed": false
   },
   "outputs": [
    {
     "name": "stdout",
     "output_type": "stream",
     "text": [
      "4 shalt thou not count, \n",
      "neither count thou 2.0, \n",
      "excepting that thou then proceed to 3.00.\n",
      "005.0000 is right out.\n"
     ]
    }
   ],
   "source": [
    "instructions = \\\n",
    "\"\"\"{} shalt thou {} count, \n",
    "neither count thou {}, \n",
    "excepting that thou then proceed to {:.2f}.\n",
    "{:0>8.4f} is right out.\"\"\".format(4, 'not', 2., 2.995, 5)\n",
    "print instructions\n",
    "#.format(x, y, z) replaces {} in a string with x, y, then z\n",
    "#must be at least as many x, y, z's as {}"
   ]
  },
  {
   "cell_type": "markdown",
   "metadata": {},
   "source": [
    "It is apparent from the above that each object is being inserted into the string in the order (4, 'not', 2., 2.995, 5) at the locations denoted by the curly braces `{}`.  Optional format specifiers may be given inside the braces.  The format syntax is, to be honest, its own mini-language and, although details of its syntax can be found [here](https://docs.python.org/2/library/string.html#format-string-syntax), it's more typical to look up examples that look like what you want.  In our example, above, the first three objects (4 , 'not', and 2) are inserted with no format specifiers, so take the default for their type and value.  The latter two take format specifiers denoted by a colon followed by some stuff: `{:.2f}` means \"a fixed point number rounded to two decimal places\", and `{:0>8.4f}` means \"a fixed point number rounded to four decimal places, of total length eight digits, with the number being padded with zeros at the start\"."
   ]
  },
  {
   "cell_type": "markdown",
   "metadata": {},
   "source": [
    "#### Task 3.2\n",
    "\n",
    "Create a `float` called `pi`, with the value 3.14159. Using the format method in each case, print:\n",
    "\n",
    "* `\"Pi = 3.14159\"`\n",
    "* `\"Pi = 03.14\"`\n",
    "* `\"Pi = 3.14 and 2Pi = 6.28\"`\n",
    "* `\"Pi = 003\"`\n"
   ]
  },
  {
   "cell_type": "code",
   "execution_count": 94,
   "metadata": {
    "collapsed": false
   },
   "outputs": [
    {
     "data": {
      "text/plain": [
       "'Pi = 003'"
      ]
     },
     "execution_count": 94,
     "metadata": {},
     "output_type": "execute_result"
    }
   ],
   "source": [
    "pi = 3.14159\n",
    "\"Pi = {}\".format(pi)\n",
    "\"Pi = {:0>5.2f}\".format(pi)\n",
    "\"Pi = {:.2f} and 2Pi = {:.2f}\".format(pi, 2*pi)\n",
    "\"Pi = {:0>3.0f}\".format(pi)\n",
    "#{:>y.xf}\n",
    "#f means fixed point number\n",
    "#x means the number of decimal places to be printed,\n",
    "#y is the number of digits to be displayed\n",
    "#> means \"0\"s to placefill should be put before the number a\n",
    "#< means \"0\"s to placefil should be after the decimal point\n",
    "#if you want to do something to a number do it in the bracket of format"
   ]
  },
  {
   "cell_type": "markdown",
   "metadata": {},
   "source": [
    "### Lists\n",
    "\n",
    "We have described the strings above as lists of characters, but the word *list* has a specific meaning in Python.  A list is a collection of objects in one container. Lists can contain any type of Python object, be it `int`, `string`, `float`, etc.  We have actually already met a list when we used some simple loops.  The object\n",
    "```python \n",
    "range(10)\n",
    "```\n",
    "is a list of integers ranging from 0-9, as we saw.  Execute the following cell."
   ]
  },
  {
   "cell_type": "code",
   "execution_count": 95,
   "metadata": {
    "collapsed": false
   },
   "outputs": [
    {
     "name": "stdout",
     "output_type": "stream",
     "text": [
      "[1, 2, 5]\n",
      "['aquaduct', 'sanitation', 'roads', 'irrigation', 'medicine', 'education', 'health']\n",
      "[1.0, 'And now for something completely different', True]\n"
     ]
    }
   ],
   "source": [
    "count = [1,2,5]\n",
    "thingsdone = 'aquaduct sanitation roads irrigation medicine education health'\n",
    "romans = thingsdone.split()\n",
    "circus = [1., 'And now for something completely different', True]\n",
    "print count\n",
    "print romans\n",
    "print circus\n",
    "#showing that lsist can be made of one or more of any type"
   ]
  },
  {
   "cell_type": "markdown",
   "metadata": {},
   "source": [
    "The identifier `count` points to a list of `int`s, `romans` points to a list of `string`s created by using the `split` method on the `string` `thingsdone`, and `circus` points to a list that holds a `float`, a `string`, and a `bool`.  As is evident, there is no requirement for the list to contain one type of object. This makes lists useful and versatile tools, but not particularly good for crunching large data sets. The overheads required for checking each object type means that iterating over large Python lists is extremely slow compared to, say, iterating over arrays of numbers in C. This is where Numpy, which we'll meet later, comes in.\n",
    "\n",
    "We have discussed above how to extract particular elements from a `string` using indexing and slicing. Lists behave in exactly the same way:\n",
    "\n",
    "#### Task 3.3\n",
    "Write code that will print the `romans` list in reverse order.  Then, create a new list containing the 1st, 2nd, and 3rd objects in the lists `romans`, `count`, and `circus`, respectively, assign it to an identifier of your choice and print it.  Now, create and print a list that contains the lists `romans`, `count`, and `circus`. That's right - lists can be lists of lists! (of lists of lists of lists of lists...)"
   ]
  },
  {
   "cell_type": "code",
   "execution_count": 122,
   "metadata": {
    "collapsed": false
   },
   "outputs": [
    {
     "name": "stdout",
     "output_type": "stream",
     "text": [
      "['health', 'education', 'medicine', 'irrigation', 'roads', 'sanitation', 'aquaduct']\n",
      "['aquaduct', 'sanitation', 'roads', 1, 2, 5, 1.0, 'And now for something completely different', True]\n",
      "[['aquaduct', 'sanitation', 'roads', 'irrigation', 'medicine', 'education', 'health'], [1, 2, 5], [1.0, 'And now for something completely different', True]]\n"
     ]
    }
   ],
   "source": [
    "print romans[::-1]\n",
    "joint = romans[:3] + count[:3] + circus[:3]\n",
    "print joint\n",
    "lstlst = [romans, count, circus]\n",
    "print lstlst\n",
    "\n",
    "#works the same as string slicing, and joining"
   ]
  },
  {
   "cell_type": "markdown",
   "metadata": {},
   "source": [
    "#### Task 3.4\n",
    "Take the following string and:\n",
    "* split it into a list using '/' as the delimiter (look at the docstring for `str.split`)\n",
    "* take every 2nd element in reverse order\n",
    "* join the list using a space between each word (look at the docstring for `str.join`)\n",
    "* Capitalize the first letter\n",
    "* print the result\n",
    "\n",
    "You could in prinicple do this all in one line!"
   ]
  },
  {
   "cell_type": "code",
   "execution_count": 113,
   "metadata": {
    "collapsed": false
   },
   "outputs": [],
   "source": [
    "words = \\\n",
    "\"\"\"TIP/STEP/RUBBISH/ALTERNATE/A/EVERY/ON/\n",
    "TURN/TANK/HALF/WATER/AERIAL/OLD/FORWARD/AN/\n",
    "A/IN/ONLY/LIVE/SILLY/TO/VERY/USED/NOT/WE\"\"\""
   ]
  },
  {
   "cell_type": "code",
   "execution_count": 198,
   "metadata": {
    "collapsed": false
   },
   "outputs": [
    {
     "name": "stdout",
     "output_type": "stream",
     "text": [
      "['TIP', 'STEP', 'RUBBISH', 'ALTERNATE', 'A', 'EVERY', 'ON', '\\nTURN', 'TANK', 'HALF', 'WATER', 'AERIAL', 'OLD', 'FORWARD', 'AN', '\\nA', 'IN', 'ONLY', 'LIVE', 'SILLY', 'TO', 'VERY', 'USED', 'NOT', 'WE']\n",
      "['WE', 'USED', 'TO', 'LIVE', 'IN', 'AN', 'OLD', 'WATER', 'TANK', 'ON', 'A', 'RUBBISH', 'TIP']\n",
      "WE USED TO LIVE IN AN OLD WATER TANK ON A RUBBISH TIP\n",
      "We used to live in an old water tank on a rubbish tip\n",
      "We used to live in an old water tank on a rubbish tip\n"
     ]
    }
   ],
   "source": [
    "lst_wrd = words.split(\"/\")\n",
    "print lst_wrd\n",
    "\n",
    "bck_lst_wrd = lst_wrd[::-2]\n",
    "print bck_lst_wrd\n",
    "\n",
    "bck_str_wrd = \" \".join(bck_lst_wrd)\n",
    "print bck_str_wrd\n",
    "\n",
    "sentance = bck_str_wrd[0] + bck_str_wrd[1:].lower()\n",
    "print sentance\n",
    "\n",
    "print \" \".join(words.split(\"/\")[::-2])[0] + \" \".join(words.split(\"/\")[::-2])[1:].lower()\n",
    "\n",
    "#bck_str_wrd.lower()[1:]\n",
    "\n",
    "#(\"x\") split finds each x, deletes it, and splits the string to a list at the breaks  \n",
    "#\"x\".join(y) join works by inseting a string x between each element of a list y\n",
    "#.lower() makes each letter lowercase\n",
    "#methods can be used one after another, but may reduce readability"
   ]
  },
  {
   "cell_type": "code",
   "execution_count": 195,
   "metadata": {
    "collapsed": false
   },
   "outputs": [
    {
     "ename": "SyntaxError",
     "evalue": "invalid syntax (<ipython-input-195-57d31de7f23a>, line 1)",
     "output_type": "error",
     "traceback": [
      "\u001b[1;36m  File \u001b[1;32m\"<ipython-input-195-57d31de7f23a>\"\u001b[1;36m, line \u001b[1;32m1\u001b[0m\n\u001b[1;33m    .join\u001b[0m\n\u001b[1;37m    ^\u001b[0m\n\u001b[1;31mSyntaxError\u001b[0m\u001b[1;31m:\u001b[0m invalid syntax\n"
     ]
    }
   ],
   "source": [
    ".join"
   ]
  },
  {
   "cell_type": "code",
   "execution_count": null,
   "metadata": {
    "collapsed": true
   },
   "outputs": [],
   "source": [
    "words.split(\"/\").join"
   ]
  },
  {
   "cell_type": "markdown",
   "metadata": {},
   "source": [
    "Sequence elements can be tested to see if it contains an object, and the index of a particular member can be obtained using the `index` method of a list:"
   ]
  },
  {
   "cell_type": "code",
   "execution_count": null,
   "metadata": {
    "collapsed": false
   },
   "outputs": [],
   "source": [
    "romans = ['aquaduct', 'sanitation', 'roads', 'irrigation', 'medicine', 'education', 'health']\n",
    "print 'sanitation' in romans\n",
    "print 'semi-conductor lasers' in romans\n",
    "print romans.index('irrigation')"
   ]
  },
  {
   "cell_type": "markdown",
   "metadata": {},
   "source": [
    "An important property of lists is that they can be changed.  The technical term for this is that they are *mutable*.  This simply means that individual elements can be modified, and elements can be added or removed. This is done by assigning an object to that particular element, e.g. in the following task:  \n",
    "\n",
    "#### Task 3.5\n",
    "Execute the following cell and write down what is happening in each line."
   ]
  },
  {
   "cell_type": "code",
   "execution_count": 201,
   "metadata": {
    "collapsed": false
   },
   "outputs": [
    {
     "name": "stdout",
     "output_type": "stream",
     "text": [
      "['aquaduct', 'sanitation', 'roads', 'irrigation', 'medicine', 'education', 'health']\n",
      "True\n",
      "['medicine', 'sanitation', 'roads', 'irrigation', 'medicine', 'education', 'health']\n",
      "['medicine', 'sanitation', 'education', 'health', 'medicine', 'education', 'health']\n",
      "['medicine', 'sanitation', 'education', 'health', 'medicine', 'education', 'health', 1.0, 'And now for something completely different', True]\n"
     ]
    }
   ],
   "source": [
    "romans = ['aquaduct', 'sanitation', 'roads', 'irrigation', 'medicine', 'education', 'health']\n",
    "#assigning a list to the variable romans\n",
    "circus = [1., 'And now for something completely different', True]\n",
    "#assigning a list to the variable circus\n",
    "print romans\n",
    "#print the whole list romans\n",
    "print 'medicine' in romans\n",
    "#print whether it is true or false if medicine is in romans\n",
    "romans[romans.index('aquaduct')] = 'medicine'\n",
    "#search romans for aquaduct and return the index\n",
    "#change the value of this index to the string medicine\n",
    "print romans\n",
    "#print the new romans list\n",
    "romans[2:4] = ['education', 'health']\n",
    "#change the values in index 2 - 3 inclusive to education and health respectively\n",
    "print romans\n",
    "#print new romans\n",
    "print romans + circus\n",
    "#combine the lists romans and circus then print the list"
   ]
  },
  {
   "cell_type": "markdown",
   "metadata": {},
   "source": [
    "Double-click to edit me"
   ]
  },
  {
   "cell_type": "markdown",
   "metadata": {},
   "source": [
    "#### Task 3.6\n",
    "\n",
    "Write a `for` loop that iterates over `romans`, and prints a `string` that says `'The Romans have given us X'` where `X` is each element of `romans` in turn. (Remind yourself how we wrote `for` loops in Section 2 if necessary)"
   ]
  },
  {
   "cell_type": "code",
   "execution_count": 208,
   "metadata": {
    "collapsed": false
   },
   "outputs": [
    {
     "name": "stdout",
     "output_type": "stream",
     "text": [
      "The Romans have given us medicine\n",
      "The Romans have given us sanitation\n",
      "The Romans have given us education\n",
      "The Romans have given us health\n",
      "The Romans have given us medicine\n",
      "The Romans have given us education\n",
      "The Romans have given us health\n"
     ]
    }
   ],
   "source": [
    "for i in range(len(romans)):\n",
    "    print \"The Romans have given us \" + romans[i]\n",
    "    \n",
    "#find the length of romans\n",
    "#print the string the romns have given us x where x is the index of the word in the list romans\n",
    "#repeat until i = to len(romans)"
   ]
  },
  {
   "cell_type": "markdown",
   "metadata": {},
   "source": [
    "Now take a look at the following:"
   ]
  },
  {
   "cell_type": "code",
   "execution_count": 209,
   "metadata": {
    "collapsed": false
   },
   "outputs": [
    {
     "name": "stdout",
     "output_type": "stream",
     "text": [
      "['medicine', 'sanitation', 'education', 'health', 'medicine', 'education', 'health']\n",
      "['medicine', 'sanitation', 'education', 'health', 'medicine', 'education', 'health', 'wine']\n",
      "['medicine', 'sanitation', 'education', 'health', 'medicine', 'education', 'health', 'wine', 'public baths', 'peace']\n",
      "['medicine', 'sanitation', 'education', 'health', 'medicine', 'education', 'health', 'wine', 'public baths']\n",
      "['medicine', 'sanitation', 'education', 'public order', 'health', 'medicine', 'education', 'health', 'wine', 'public baths']\n",
      "['medicine', 'education', 'public order', 'health', 'medicine', 'education', 'health', 'wine', 'public baths']\n"
     ]
    }
   ],
   "source": [
    "print romans\n",
    "romans.append('wine')\n",
    "print romans\n",
    "romans.extend(['public baths', 'peace'])\n",
    "print romans\n",
    "del romans[-1]\n",
    "print romans\n",
    "romans.insert(3, 'public order')\n",
    "print romans\n",
    "romans.remove('sanitation')\n",
    "print romans"
   ]
  },
  {
   "cell_type": "markdown",
   "metadata": {},
   "source": [
    "Notice again our use of some methods of lists in the above cell, in this case appending individual items or lists, or inserting and removing elements at certain indices. "
   ]
  },
  {
   "cell_type": "code",
   "execution_count": null,
   "metadata": {
    "collapsed": false
   },
   "outputs": [],
   "source": []
  },
  {
   "cell_type": "markdown",
   "metadata": {},
   "source": [
    "### Tuples\n",
    "\n",
    "Tuples are similar to lists in most ways, but the key difference is that they *immutable*.  What does this mean? Simply that, unlike lists, they cannot be changed, once created.  Strings are also immutable.  Tuples are denoted by round parentheses (), rather than square brackets, and in some cases we don't need the brackets at all.\n",
    "#### Task 3.7\n",
    "Create a tuple using round brackets and see what happens when you attempt to modify one of the elements. "
   ]
  },
  {
   "cell_type": "code",
   "execution_count": 12,
   "metadata": {
    "collapsed": false
   },
   "outputs": [
    {
     "ename": "TypeError",
     "evalue": "'tuple' object does not support item assignment",
     "output_type": "error",
     "traceback": [
      "\u001b[1;31m---------------------------------------------------------------------------\u001b[0m",
      "\u001b[1;31mTypeError\u001b[0m                                 Traceback (most recent call last)",
      "\u001b[1;32m<ipython-input-12-49e8fd831655>\u001b[0m in \u001b[0;36m<module>\u001b[1;34m()\u001b[0m\n\u001b[0;32m      1\u001b[0m \u001b[0mtup\u001b[0m \u001b[1;33m=\u001b[0m \u001b[1;33m(\u001b[0m\u001b[1;36m1\u001b[0m\u001b[1;33m,\u001b[0m\u001b[1;36m2.0\u001b[0m\u001b[1;33m,\u001b[0m\u001b[1;34m\"graham\"\u001b[0m\u001b[1;33m)\u001b[0m\u001b[1;33m\u001b[0m\u001b[0m\n\u001b[1;32m----> 2\u001b[1;33m \u001b[0mtup\u001b[0m\u001b[1;33m[\u001b[0m\u001b[1;36m0\u001b[0m\u001b[1;33m]\u001b[0m \u001b[1;33m=\u001b[0m \u001b[1;34m\"bob\"\u001b[0m\u001b[1;33m\u001b[0m\u001b[0m\n\u001b[0m\u001b[0;32m      3\u001b[0m \u001b[1;32mprint\u001b[0m \u001b[0mtup\u001b[0m\u001b[1;33m\u001b[0m\u001b[0m\n\u001b[0;32m      4\u001b[0m \u001b[1;31m#you get an error saying that you cannot change what is in a tuple\u001b[0m\u001b[1;33m\u001b[0m\u001b[1;33m\u001b[0m\u001b[0m\n",
      "\u001b[1;31mTypeError\u001b[0m: 'tuple' object does not support item assignment"
     ]
    }
   ],
   "source": [
    "tup = (1,2.0,\"graham\")\n",
    "tup[0] = \"bob\"\n",
    "print tup\n",
    "#you get an error saying that you cannot change what is in a tuple"
   ]
  },
  {
   "cell_type": "markdown",
   "metadata": {},
   "source": [
    "Tuples are useful for assigning scalar values to multiple identifiers in one go, and for passing parameters and results between functions.  For example, consider the following:"
   ]
  },
  {
   "cell_type": "code",
   "execution_count": 211,
   "metadata": {
    "collapsed": false
   },
   "outputs": [
    {
     "name": "stdout",
     "output_type": "stream",
     "text": [
      "1\n",
      "2.0\n",
      "Caerbannog\n"
     ]
    }
   ],
   "source": [
    "(x,y,z) = 1,2.,'Caerbannog'\n",
    "print x\n",
    "print y\n",
    "print z"
   ]
  },
  {
   "cell_type": "markdown",
   "metadata": {},
   "source": [
    "Here, we could have omitted the brackets completely:"
   ]
  },
  {
   "cell_type": "code",
   "execution_count": 210,
   "metadata": {
    "collapsed": false
   },
   "outputs": [
    {
     "name": "stdout",
     "output_type": "stream",
     "text": [
      "1\n",
      "2.0\n",
      "Caerbannog\n"
     ]
    }
   ],
   "source": [
    "x,y,z = 1,2.,'Caerbannog'\n",
    "print x\n",
    "print y\n",
    "print z"
   ]
  },
  {
   "cell_type": "markdown",
   "metadata": {},
   "source": [
    "The tuple is being \"unpacked\" for us into the individual variables.  An advantage of this construct is that we can easily swap identifiers.  So instead of the usual:"
   ]
  },
  {
   "cell_type": "code",
   "execution_count": 212,
   "metadata": {
    "collapsed": false
   },
   "outputs": [
    {
     "name": "stdout",
     "output_type": "stream",
     "text": [
      "1 2.0\n",
      "2.0 1\n"
     ]
    }
   ],
   "source": [
    "print x, y\n",
    "temp = x\n",
    "x = y\n",
    "y = temp\n",
    "print x, y"
   ]
  },
  {
   "cell_type": "markdown",
   "metadata": {},
   "source": [
    "We can simply write:"
   ]
  },
  {
   "cell_type": "code",
   "execution_count": 213,
   "metadata": {
    "collapsed": false
   },
   "outputs": [
    {
     "name": "stdout",
     "output_type": "stream",
     "text": [
      "2.0 1\n",
      "1 2.0\n"
     ]
    }
   ],
   "source": [
    "print x, y\n",
    "y, x = x, y\n",
    "print x, y"
   ]
  },
  {
   "cell_type": "markdown",
   "metadata": {},
   "source": [
    "One further thing to note is that, owing to the automatic unpacking mentioned above, if we need to create a tuple with only one element we keep the trailing comma, as omitting it unpacks the tuple into a scalar variable:"
   ]
  },
  {
   "cell_type": "code",
   "execution_count": 214,
   "metadata": {
    "collapsed": false
   },
   "outputs": [
    {
     "name": "stdout",
     "output_type": "stream",
     "text": [
      "1\n",
      "(1,)\n"
     ]
    }
   ],
   "source": [
    "a = (1)\n",
    "print a\n",
    "a = (1,)\n",
    "print a"
   ]
  },
  {
   "cell_type": "markdown",
   "metadata": {},
   "source": [
    "### Dictionaries\n",
    "\n",
    "Dictionaries, or `dict`s are surprisingly powerful tools, not only for organising data, but also for conditional execution of code. They are like lists, but where each element can be accessed not by an index, but by referring to its *key*, which is some other object associated with that element. Consider the following examples:"
   ]
  },
  {
   "cell_type": "code",
   "execution_count": 216,
   "metadata": {
    "collapsed": false
   },
   "outputs": [
    {
     "name": "stdout",
     "output_type": "stream",
     "text": [
      "holy grail\n",
      "['african?', 'european?']\n"
     ]
    }
   ],
   "source": [
    "questions = {'favourite colour': 'red', 'quest': 'holy grail', \n",
    "             'v_swallow0': ['african?', 'european?']}\n",
    "print questions['quest']\n",
    "print questions['v_swallow0']"
   ]
  },
  {
   "cell_type": "markdown",
   "metadata": {},
   "source": [
    "The `dict` `questions` is being accessed via its keys, in this case the `string` `'quest'`, which then returns `'holy grail'`, and `'v_swallow0'`, which returns the list `['african?', 'european?']`.\n",
    "\n",
    "<div class=\"alert alert-success\" style=\"width: 60%; margin-left: 20%; margin-top:20px\">\n",
    "<p>**INFO**</p>\n",
    "<p>Although not enforced by Python, it is conventional to keep lines shorter that 80 characters in length. This can be done by splitting a line with a '\\' character, or if you are inside a pair of brackets, simply continuing on the next line with a carriage return. It is also conventional to start continued lines aligned with the start of the code in the brackets. Many modern text editors will do this for you.</p>\n",
    "</div>\n",
    "\n",
    "There are a few other ways to create `dict`s.  Here is another one:"
   ]
  },
  {
   "cell_type": "code",
   "execution_count": null,
   "metadata": {
    "collapsed": false
   },
   "outputs": [],
   "source": [
    "argument = dict(one = 5, two = 'the full half hour')\n",
    "print argument['one']"
   ]
  },
  {
   "cell_type": "markdown",
   "metadata": {},
   "source": [
    "#### Task 3.8\n",
    "\n",
    "Create dictionaries containing three pieces of data of your choice from [this website](http://nssdc.gsfc.nasa.gov/planetary/factsheet/) for the planets Mercury, Earth, and Jupiter. Demonstrate how you access the data using the dictionary's keys.\n"
   ]
  },
  {
   "cell_type": "code",
   "execution_count": 29,
   "metadata": {
    "collapsed": false
   },
   "outputs": [
    {
     "name": "stdout",
     "output_type": "stream",
     "text": [
      "4879\n"
     ]
    }
   ],
   "source": [
    "jupiter = {\"mass\":1898, \"diameter\": 142984, \"density\":1326}\n",
    "earth = {\"mass\":5.97, \"diameter\":12756, \"density\":5514}\n",
    "mercury = {\"mass\":0.330, \"diameter\":4879,\"density\":5427}\n",
    "planets = {\"jupiter\":jupiter, \"earth\":earth, \"mercury\":mercury}\n",
    "\n",
    "mercury = dict(mass = 0.330, diameter = 4879, density = 5427)\n",
    "planets = dict(jupiter = jupiter, earth = earth, mercury = mercury)\n",
    "print planets[\"mercury\"][\"diameter\"]\n",
    "\n",
    "#dictionaries can be nested, and accesed by writing square bracket after square bracket\n",
    "#different methods creating dictionaries create the same thing and can be used interchangeably, but\n",
    "#stick to one type as they have different syntax"
   ]
  },
  {
   "cell_type": "markdown",
   "metadata": {},
   "source": [
    "Keys do not have to be `string`s - in fact, they can be any type.  In the next example, the keys are `bool`s, which then creates a very convenient way of executing code conditionally:"
   ]
  },
  {
   "cell_type": "code",
   "execution_count": 237,
   "metadata": {
    "collapsed": false
   },
   "outputs": [
    {
     "name": "stdout",
     "output_type": "stream",
     "text": [
      "a is less than or equal to b\n",
      "a is greater than b\n"
     ]
    }
   ],
   "source": [
    "a = 3\n",
    "b = 4\n",
    "result = {True: 'a is greater than b', False: 'a is less than or equal to b'}\n",
    "print result[a > b]\n",
    "a = 5\n",
    "b = 4\n",
    "print result[a > b]"
   ]
  },
  {
   "cell_type": "markdown",
   "metadata": {},
   "source": [
    "#### Task 3.9\n",
    "\n",
    "Modify the code you wrote for Task 2.5 to make use of a `dict` to print `'Messiah'` if y is both even and greater than or equal to 10, or `'Very naughty boy'` otherwise. "
   ]
  },
  {
   "cell_type": "code",
   "execution_count": 32,
   "metadata": {
    "collapsed": false
   },
   "outputs": [
    {
     "name": "stdout",
     "output_type": "stream",
     "text": [
      "Very naughty boy\n",
      "Very naughty boy\n",
      "Very naughty boy\n",
      "Very naughty boy\n",
      "Very naughty boy\n",
      "Very naughty boy\n",
      "Very naughty boy\n",
      "Very naughty boy\n",
      "Very naughty boy\n",
      "Very naughty boy\n",
      "Messiah\n",
      "Very naughty boy\n",
      "Messiah\n",
      "Very naughty boy\n",
      "Messiah\n",
      "Very naughty boy\n",
      "Messiah\n",
      "Very naughty boy\n",
      "Messiah\n",
      "Very naughty boy\n",
      "Messiah\n"
     ]
    }
   ],
   "source": [
    "monty = {}\n",
    "for i in range (21):\n",
    "    a = (i >= 10) & (i % 2 == 0)\n",
    "    if a == True:\n",
    "        monty[i] = \"Messiah\"\n",
    "    else:\n",
    "        monty[i] = \"Very naughty boy\"\n",
    "\n",
    "\n",
    "monty = {True:\"Messiah\", False:\"Very naughty boy\"}\n",
    "for i in range (21):\n",
    "    print monty[(i >= 10) & (i % 2 == 0)]\n",
    "    \n",
    "#    if a == True:\n",
    "#        print monty[\"t\"]\n",
    "#    else:\n",
    "#        print monty[\"f\"]\n",
    "        \n",
    "        \n",
    "# {} creates an empty dictionary\n",
    "# {'key': 'value'}\n",
    "# monty['mynewkey'] = 'mynewvalue'\n",
    "#{'mynewkey': 'mynewvalue', 'key': 'value'}"
   ]
  },
  {
   "cell_type": "markdown",
   "metadata": {},
   "source": [
    "<div class=\"alert alert-danger\" style=\"width: 60%; margin-left: 20%; margin-top:20px\">\n",
    "<p>**Checkpoint: Please have the above marked and signed off by a demonstrator before continuing**</p>\n",
    "</div>"
   ]
  }
 ],
 "metadata": {
  "kernelspec": {
   "display_name": "Python 2",
   "language": "python",
   "name": "python2"
  },
  "language_info": {
   "codemirror_mode": {
    "name": "ipython",
    "version": 2
   },
   "file_extension": ".py",
   "mimetype": "text/x-python",
   "name": "python",
   "nbconvert_exporter": "python",
   "pygments_lexer": "ipython2",
   "version": "2.7.9"
  }
 },
 "nbformat": 4,
 "nbformat_minor": 0
}
