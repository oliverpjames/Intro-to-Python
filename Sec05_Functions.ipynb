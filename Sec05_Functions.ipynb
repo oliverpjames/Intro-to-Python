{
 "cells": [
  {
   "cell_type": "markdown",
   "metadata": {},
   "source": [
    "<div class=\"clearfix\" style=\"padding: 10px; padding-left: 0px\">\n",
    "<img src=\"unilogoblack.jpeg\" width=\"250px\" style=\"display: inline-block; margin-top: 5px;\">\n",
    "<a href=\"http://www.python.org\"><img src=\"Python-logo-notext.svg\" width=\"70px\" class=\"pull-right\" style=\"display: inline-block; margin: 0px;\"></a>\n",
    "</div>\n",
    "\n",
    "\n",
    "# Basic Scientific Python\n",
    "\n",
    "J. D. Nichols 2015\n",
    "\n",
    "## Section 5: Functions\n",
    "\n",
    "### Function constructs\n",
    "\n",
    "It is often useful to bunch self-contained and oft-used pieces of code into objects called *functions*.  These act just like mathematical functions, in that they accept arguments, process them, and return something else.  You have used a couple of functions already (range, random), but let's take a closer look..."
   ]
  },
  {
   "cell_type": "code",
   "execution_count": null,
   "metadata": {
    "collapsed": false
   },
   "outputs": [],
   "source": [
    "def squareit(x):\n",
    "    \"\"\" Takes x and returns its square \"\"\"\n",
    "    x = x**2\n",
    "    return x\n",
    "\n",
    "x = 2\n",
    "print squareit(x)\n",
    "print x"
   ]
  },
  {
   "cell_type": "markdown",
   "metadata": {},
   "source": [
    "There's quite a lot going on here.  We define the function `squareit` on the first line using the syntax\n",
    "\n",
    "```python\n",
    "def <name>(arguments):\n",
    "```\n",
    "The function name can be anything subject to the conventions we discussed earlier, and the parentheses are mandatory, as is the final colon.  Arguments are not mandatory (the brackets are empty if there are none), and if there's more than one they are separated by commas. There are two types of input to a function: *arguments* and *keywords*; we will discuss the differences shortly. \n",
    "\n",
    "The body of the function follows, denoted by indentation as for the `if` and `for` statements we met earlier.  The first item in the body of the function is a string enclosed by 3 sets of inverted commas.  This is called the function's *docstring* and contains help regarding the function's use.  Although it's optional, it's strongly encouraged to include docstrings to help make your code readable to other people (including the future you!).  The docstring is returned if you type the function's name, followed by '?' - try it!  Any time you need a helping hand with the use of a function, just use the question mark. The executable code follows, and finally the function must return a value using\n",
    "\n",
    "```python\n",
    "return <something>\n",
    "```\n",
    "\n",
    "even if it's just the number 1 (used, for example, to indicate that the function has fully executed, if nothing else is returned). \n",
    "\n",
    "#### Task 5.1\n",
    "\n",
    "Write and demonstrate a function that takes two arguments, and returns their root-sum-square."
   ]
  },
  {
   "cell_type": "code",
   "execution_count": 6,
   "metadata": {
    "collapsed": false
   },
   "outputs": [
    {
     "name": "stdout",
     "output_type": "stream",
     "text": [
      "2.82842712475\n"
     ]
    }
   ],
   "source": [
    "def root_sum_square(x,y):\n",
    "    \"\"\"performs the root sum square of two variables (x,y)\"\"\"\n",
    "    return (x**2 + y**2)**0.5\n",
    "\n",
    "print root_sum_square(2,2)"
   ]
  },
  {
   "cell_type": "markdown",
   "metadata": {},
   "source": [
    "### Scope\n",
    "\n",
    "A few statements regarding something called *scope* are in order. The scope is the region of the code where a variable is defined.  Take a look at the cell with the function `squareit`.  The first line that is executed is line 6, in which `x` is defined as 2. This is passed into function `squareit`, which defines a new variable (purposefully!) also called `x`, which is the square of the variable that was passed in.  This is returned, and printed. The returned value is 4, and the final `print x` line indicates that at this point `x` is 2. So, it is clear that, although we are defining a variable called `x` in the function `squareit`, this value is *not* retained when execution returns out of the function, and `x` is back to the value we defined it as on line 6.  Hence the scope of the `x` in the function `squareit` is only that function - not outside of it.\n",
    "\n",
    "However.. let's modify our code slightly to define a new variable `y` outside of the function:"
   ]
  },
  {
   "cell_type": "code",
   "execution_count": 7,
   "metadata": {
    "collapsed": false
   },
   "outputs": [
    {
     "name": "stdout",
     "output_type": "stream",
     "text": [
      "8\n",
      "4\n",
      "2\n"
     ]
    }
   ],
   "source": [
    "def squareit(x):\n",
    "    \"\"\" Takes x and returns its square.\n",
    "        Also prints y \"\"\"\n",
    "    x = x**2\n",
    "    print y\n",
    "    return x\n",
    "\n",
    "x = 2\n",
    "y = 8\n",
    "print squareit(x)\n",
    "print x"
   ]
  },
  {
   "cell_type": "markdown",
   "metadata": {},
   "source": [
    "This variable `y` is available to print in the function `squareit`! So the scope of a variable extends down into functions defined in that piece of code (but not back up). Why, then, do we need to pass `x` as an argument?  Because in principle, we could be calling the function from code written in a different file, where `x` would not automatically be available in the function.  So we use arguments to aid the *portability* of code. \n",
    "\n",
    "<div class=\"alert alert-success\" style=\"width: 60%; margin-left: 20%; margin-top:20px\">\n",
    "<p>**INFO**</p>\n",
    "<p>The technical information regarding this is the following. The list of identifiers that are available in a particular part of the code is called the *namespace*, and, being a list, is itself a Python object with an identifier.  The namespace at the interpreter is called &#95;&#95;main&#95;&#95; (note the two leading  and two trailing underscores), and this namespace *encloses* the namespace of the function squareit, hence our variable y was available in the function.  </p>\n",
    "</div>\n",
    "\n",
    "### Arguments and keywords\n",
    "\n",
    "As mentioned above, parameters can be passed into the function in two ways: *arguments* and *keywords*.  An example of a function accepting arguments is:\n",
    "\n",
    "```python\n",
    "def func1(x,y,z):\n",
    "    <code>\n",
    "```\n",
    "\n",
    "Variables `x`, `y`, and `z` are passed to the function, and the function knows which is which by the order of the variables. The first variable is `x`, the second is `y` and the third is `z`. All three arguments must be present when this function is called.   \n",
    "\n",
    "An example of a function accepting keywords is:\n",
    "\n",
    "```python\n",
    "def func2(u=8,v=7.8E4,w='comfy chair'):\n",
    "    <code>\n",
    "```\n",
    "Keywords are differentiated from arguments in that they are optional, and have default values given in the function definition; in this case `u` defaults to 8 if it is omitted from the function call, `v` to 7.8E4, etc. The function can be called with the keywords explicitly given, e.g.\n",
    "\n",
    "\n",
    "```python\n",
    "result = func2(u=2,v=50)\n",
    "```\n",
    "\n",
    "or inferred from their position, as for arguments:\n",
    "\n",
    "```python\n",
    "result = func2(2,50)\n",
    "```\n",
    "\n",
    "Functions can have both arguments (mandatory) and keywords (optional):\n",
    "\n",
    "```python\n",
    "def func3(x,y,z, u=8,v=7.8E4,w='comfy chair'):\n",
    "    <code>\n",
    "```\n",
    "\n",
    "One further thing needs to be mentioned regarding arguments. The thing that gets passed into the function is a reference to the Python object, not the identifier (remember that we showed above that the identifier is separate to the object held in the computer's memory). This becomes important when we pass lists, or any mutable object, as arguments to functions (in our previous example the passed variables were immutable).  Have a look at the following:"
   ]
  },
  {
   "cell_type": "code",
   "execution_count": null,
   "metadata": {
    "collapsed": false
   },
   "outputs": [],
   "source": [
    "def changefirst(x):\n",
    "    \"\"\" Takes a list x, changes the first element, returns 1 \"\"\"\n",
    "    x[0] = 'something new'\n",
    "    return 1\n",
    "\n",
    "a = [1,2,3]\n",
    "print a\n",
    "changefirst(a)\n",
    "print a"
   ]
  },
  {
   "cell_type": "markdown",
   "metadata": {},
   "source": [
    "We define a list `a` on line 6, and this is then printed. The list `a` is passed into function `changefirst`, and the first element (index 0) is changed to the string `'something new'`. Then, the function returns the `int` 1. Finally, `a` is printed again.  It is clear that `a` has been changed by the function, even though it was not returned by the function.  This is because the variable `x` in the fuction `changefirst` points to the same object in the computer's memory as does `a`; the variable is *passed by reference* to the object (as opposed to a copy of its value).  This can sometimes lead to bugs that are tricky to track down, so it's worth keeping at the back of your mind.  We can easily avoid this by creating a new copy of the list in the function:"
   ]
  },
  {
   "cell_type": "code",
   "execution_count": null,
   "metadata": {
    "collapsed": false
   },
   "outputs": [],
   "source": [
    "def changefirst_copy(x):\n",
    "    \"\"\" Takes a list x, makes a copy, \n",
    "        changes the first element, returns the copy \"\"\"\n",
    "    x2 = x[:]\n",
    "    x2[0] = 'something new'\n",
    "    return x2\n",
    "\n",
    "a = [1,2,3]\n",
    "print a\n",
    "b = changefirst_copy(a)\n",
    "print a\n",
    "print b"
   ]
  },
  {
   "cell_type": "markdown",
   "metadata": {},
   "source": [
    "On line 4 of this version, a new variable `x2` is created by indexing all of the elements in the list `x`.  This creates a copy of the list `x`. So now, even though the new list is now returned, the original list is left unchanged."
   ]
  },
  {
   "cell_type": "markdown",
   "metadata": {},
   "source": [
    "#### Task 5.2\n",
    "\n",
    "Write a Python function that computes and returns the factorial of a given number.  You will need to use one or more loops to multiply over the list of numbers between 0 and the number. (Read the following if you already know what Numpy is: Don't use any Numpy functions - we'll get to those soon.)"
   ]
  },
  {
   "cell_type": "code",
   "execution_count": 98,
   "metadata": {
    "collapsed": false
   },
   "outputs": [
    {
     "name": "stdout",
     "output_type": "stream",
     "text": [
      "5040\n"
     ]
    }
   ],
   "source": [
    "def fact(x):\n",
    "    \"\"\"find the factorial of x which must be an integer\"\"\"\n",
    "    n = 1\n",
    "    for i in range (1,x + 1):\n",
    "        n *= i\n",
    "    return n\n",
    "        \n",
    "print fact(7)"
   ]
  },
  {
   "cell_type": "markdown",
   "metadata": {},
   "source": [
    "#### Task 5.3\n",
    "\n",
    "* Write a function that calculates the area of a trapezium, given by\n",
    "\n",
    "$$A=\\frac{a+b}{2}\\,h$$\n",
    "\n",
    "where a and b are the lengths of the two bases and h is the height.\n",
    "\n",
    "* Now create a list of numbers between 0-10 called `x`, and write a function that returns the square of each element, called `y`.  \n",
    "\n",
    "* Now, write a function that, for each successive pair of elements in the lists, calculates the area of the trapezium with the bases given by the two values of `y` and the height given by the difference between the two values of `x`.  Sum the areas and print the result.  What mathematical operation have you approximated here, and how does the value compare to what you might expect?\n"
   ]
  },
  {
   "cell_type": "code",
   "execution_count": 4,
   "metadata": {
    "collapsed": false
   },
   "outputs": [
    {
     "name": "stdout",
     "output_type": "stream",
     "text": [
      "[0.0, 1.0, 4.0, 9.0, 16.0, 25.0, 36.0, 49.0, 64.0, 81.0, 100.0]\n",
      "335.0\n"
     ]
    }
   ],
   "source": [
    "x = range(0,11)\n",
    "def area(a,h):\n",
    "    \"\"\"find area of trapezium with side + side = a and height h\"\"\"\n",
    "    return (a * h)/2\n",
    "\n",
    "def square(x):\n",
    "    \"\"\"square numbers in a list\"\"\"\n",
    "    for i in range (len(x)):\n",
    "        x[i] = float (x[i])\n",
    "    y = []\n",
    "    for i in x:\n",
    "        y.append(i**2)\n",
    "    return y    \n",
    "    \n",
    "print square(x)\n",
    "\n",
    "def trap_integrate(x):\n",
    "    \"\"\"add the areas of trapeziums together\"\"\"\n",
    "    y = square(x)\n",
    "    z = 0\n",
    "    for i in range (len(x)-1):\n",
    "        a = y[i] + y[i + 1]\n",
    "        h = x[i + 1] - x[i]\n",
    "        z += area(a,h)\n",
    "    return z\n",
    "\n",
    "print trap_integrate(x)"
   ]
  },
  {
   "cell_type": "markdown",
   "metadata": {},
   "source": [
    "#### Task 5.4\n",
    "\n",
    "Write a function that takes an integer between 1-99, and returns the word of the number. Make sure the spelling is correct, and avoid mapping single numbers individually to words.  Print a list of all the numbers.\n",
    "\n",
    "HINT: Think back to how you obtain the tens and the units from a number using Python operators.  These numbers can then be used to index lists of words representing the different parts of the number-word. Careful regarding teens!"
   ]
  },
  {
   "cell_type": "code",
   "execution_count": 97,
   "metadata": {
    "collapsed": false
   },
   "outputs": [
    {
     "name": "stdout",
     "output_type": "stream",
     "text": [
      "thirtytwo\n"
     ]
    }
   ],
   "source": [
    "a = [\"one\", \"two\", \"three\", \"four\", \"five\", \"six\", \"seven\", \"eight\", \"nine\"]\n",
    "b = [\"eleven\", \"twelve\", \"thirteen\", \"fourteen\", \"fifteen\", \"sixteen\", \"seventeen\", \"eighteen\", \"nineteen\"]\n",
    "c = [\"ten\", \"twenty\", \"thirty\", \"fourty\",\"fifty\", \"sixty\", \"seventy\", \"eighty\", \"ninety\"]\n",
    "\n",
    "def num_name(x):\n",
    "    if x < 10:\n",
    "        print a[x - 1]\n",
    "    elif 10 < x < 20:\n",
    "        print b[x - 11]\n",
    "    elif x % 10 == 0:\n",
    "        print c[x/10 -1]\n",
    "    elif x < 100:\n",
    "        print c[x/10 - 1] + a[x%10 - 1]\n",
    "    else:\n",
    "        print \"insert number between 1 and 99 inclusive\"\n",
    "\n",
    "num_name(32)"
   ]
  },
  {
   "cell_type": "markdown",
   "metadata": {},
   "source": [
    "<div class=\"alert alert-danger\" style=\"width: 60%; margin-left: 20%; margin-top:20px\">\n",
    "<p>**Checkpoint: Please have the above marked and signed off by a demonstrator before continuing**</p>\n",
    "</div>"
   ]
  },
  {
   "cell_type": "code",
   "execution_count": null,
   "metadata": {
    "collapsed": true
   },
   "outputs": [],
   "source": []
  }
 ],
 "metadata": {
  "kernelspec": {
   "display_name": "Python 2",
   "language": "python",
   "name": "python2"
  },
  "language_info": {
   "codemirror_mode": {
    "name": "ipython",
    "version": 2
   },
   "file_extension": ".py",
   "mimetype": "text/x-python",
   "name": "python",
   "nbconvert_exporter": "python",
   "pygments_lexer": "ipython2",
   "version": "2.7.9"
  }
 },
 "nbformat": 4,
 "nbformat_minor": 0
}
