{
 "cells": [
  {
   "cell_type": "markdown",
   "metadata": {},
   "source": [
    "<div class=\"clearfix\" style=\"padding: 10px; padding-left: 0px\">\n",
    "<img src=\"unilogoblack.jpeg\" width=\"250px\" style=\"display: inline-block; margin-top: 5px;\">\n",
    "<a href=\"http://www.python.org\"><img src=\"Python-logo-notext.svg\" width=\"70px\" class=\"pull-right\" style=\"display: inline-block; margin: 0px;\"></a>\n",
    "</div>\n",
    "\n",
    "\n",
    "# Basic Scientific Python\n",
    "\n",
    "J. D. Nichols 2015\n",
    "\n",
    "## Section 6: Introducing Numpy\n",
    "\n",
    "### Numpy, and importing modules\n",
    "\n",
    "As we have seen, we can use the built-in Python objects to perform repetative operations.  However, we have used relatively small numbers of objects, and if we were to increase the numbers of iterations, we would quickly find that the time taken to perform these operations in Python is not negligible.  We also found that to make changes to a list (e.g. to square it) we had to manually tell the computer to loop over the whole array, which itself becomes somewhat repetitive after a while.\n",
    "\n",
    "This is where Numpy comes in. Numpy stands for *Num*erical *Py*thon, and it cures both these problems.  It provides its own type, called an `NDArray`, which allows fast and easy operations on whole arrays at once. The key difference between Numpy's `NDArray`s and Python's lists is that all the elements in an `NDArray` are forced to be the same type of object, be it `int`s, `float`s or whatever.  Numpy's core code is written in C, and all the looping is done in that language, behind the scenes, with much less overhead than looping in Python.  The result is that, while the results are not *quite* as fast as pure C execution, the speed hit is probably much less than the gain in time created by the ease of use of Numpy relative to C.\n",
    "\n",
    "Let's take a look at an example. First, you need to ensure that you run the following line every time you use this Notebook:"
   ]
  },
  {
   "cell_type": "code",
   "execution_count": 1,
   "metadata": {
    "collapsed": false
   },
   "outputs": [],
   "source": [
    "import numpy as np"
   ]
  },
  {
   "cell_type": "code",
   "execution_count": null,
   "metadata": {
    "collapsed": false
   },
   "outputs": [],
   "source": [
    "x = np.arange(100)\n",
    "y = x**2\n",
    "print y\n",
    "print x[0]\n",
    "print x[2:10:2]"
   ]
  },
  {
   "cell_type": "markdown",
   "metadata": {},
   "source": [
    "Nice and easy!  But let's have a look at this. On line 1, we have the line \n",
    "\n",
    "```python\n",
    "import numpy as np\n",
    "```\n",
    "\n",
    "This is the standard way of importing Numpy.  What do we mean by \"import\"?  Importing is one of the strengths of Python.  It allows an easy way to effectively 'copy-and-paste' a bundle of code (called a *module*, discussed later) into your program, and at the same time provides its own namespace.  This means that any variable or function associated with Numpy is accessed via `numpy.<something>`, and it is very clear what functions and variables belong to which bits of code.  This saves a lot of hassle!  In our example above, we have imported Numpy, and changed the name of the namespace to `np`, which saves a bit of typing and, as indicated, is now conventional practice.  \n",
    "\n",
    "There is another way of importing modules, in which all of the objects in the module are dumped directly into your `__main__` namespace, thereby eliminating the need to write e.g. `\"np.\"` before each function in that module.  This syntax is, using our Numpy example, \n",
    "\n",
    "```python\n",
    "from numpy import *\n",
    "```\n",
    "which means \"import everything from Numpy and stick it all in my namespace\".  There are strongly-held opinions on both sides of the debate as to whether this is a good idea. In IPython, there is even the option\n",
    "\n",
    "```python\n",
    "from pylab import *\n",
    "```\n",
    "\n",
    "which imports everything from Numpy, Scipy, and Matplotlib  (we will meet these later).  There is no doubt that this saves on typing, and if you are familiar with these modules then you can generally avoid the problems that come with loading up your `__main__` namespace, e.g. overwriting object identifiers.  However, at this stage, we will stick to the \"best practice\" approach and use the standard, separate namespaces for all these modules. \n",
    "\n",
    "<div class=\"alert alert-success\" style=\"width: 60%; margin-left: 20%; margin-top:20px\">\n",
    "<p>**INFO**</p>\n",
    "<p>You might hear of a \"Pythonic\" way of doing things.  This means that the code is in conformity with the [Zen of Python](https://www.python.org/dev/peps/pep-0020/), one rule of which is \"Explicit is better than implicit\", i.e. make it blatantly obvious what you're doing.</p>\n",
    "</div>"
   ]
  },
  {
   "cell_type": "markdown",
   "metadata": {},
   "source": [
    "### Creating NDArrays, and using Numpy functions\n",
    "\n",
    "Once we have imported Numpy (and we only have to do this once), we can use its functions.  To find out how many functions there are in Numpy, press `TAB` in the folllowing cell:"
   ]
  },
  {
   "cell_type": "code",
   "execution_count": null,
   "metadata": {
    "collapsed": false
   },
   "outputs": [],
   "source": [
    "np.BUFSIZE?"
   ]
  },
  {
   "cell_type": "markdown",
   "metadata": {},
   "source": [
    "If you wish to know what a particular function does, remember you can type its name, with a following `'?'` to get some help. You should also make regular visits to the [Numpy docs](http://docs.scipy.org/doc/numpy/reference/).  \n",
    "\n",
    "We used above the function `arange`, which as its name implies is similar to the pure Python `range` function we have used previously, but returns a Numpy `NDArray`. The syntax to call the function is as follows:\n",
    "\n",
    "```python\n",
    "result = np.arange(start=0, stop, step=1)\n",
    "```\n",
    "If start is not given, the list starts at zero, and if step is not given, it defaults to 1; this is also the case for `range`.  The type of the objects in the returned array is inferred from the type of the arguments, i.e. if they are `int`s, the output is an array of `int`s, etc.\n",
    "\n",
    "\n",
    "#### Task 6.1\n",
    "Use `np.arange` to produce arrays which\n",
    "\n",
    "* Go from 10-30 in steps of 0.5\n",
    "* Count backwards from 50 to 0\n"
   ]
  },
  {
   "cell_type": "code",
   "execution_count": 83,
   "metadata": {
    "collapsed": false
   },
   "outputs": [
    {
     "name": "stdout",
     "output_type": "stream",
     "text": [
      "[ 10.   10.5  11.   11.5  12.   12.5  13.   13.5  14.   14.5  15.   15.5\n",
      "  16.   16.5  17.   17.5  18.   18.5  19.   19.5  20.   20.5  21.   21.5\n",
      "  22.   22.5  23.   23.5  24.   24.5  25.   25.5  26.   26.5  27.   27.5\n",
      "  28.   28.5  29.   29.5  30. ]\n",
      "[ 50.  49.  48.  47.  46.  45.  44.  43.  42.  41.  40.  39.  38.  37.  36.\n",
      "  35.  34.  33.  32.  31.  30.  29.  28.  27.  26.  25.  24.  23.  22.  21.\n",
      "  20.  19.  18.  17.  16.  15.  14.  13.  12.  11.  10.   9.   8.   7.   6.\n",
      "   5.   4.   3.   2.   1.   0.]\n"
     ]
    }
   ],
   "source": [
    "a = np.arange(10,30.25,0.5)\n",
    "b = np.arange(50, -0.1, -1)\n",
    "print a\n",
    "print b"
   ]
  },
  {
   "cell_type": "markdown",
   "metadata": {},
   "source": [
    "Another way of creating arrays of sequential numbers is the function `np.linspace`:"
   ]
  },
  {
   "cell_type": "code",
   "execution_count": null,
   "metadata": {
    "collapsed": false
   },
   "outputs": [],
   "source": [
    "x = np.linspace(5, 25, 10)\n",
    "print x"
   ]
  },
  {
   "cell_type": "markdown",
   "metadata": {},
   "source": [
    "Using this function, we can specify the start and the end values, and the number of points. If we set the keyword 'retstep = True', we can also return the step in between each point:"
   ]
  },
  {
   "cell_type": "code",
   "execution_count": null,
   "metadata": {
    "collapsed": false
   },
   "outputs": [],
   "source": [
    "x, dx = np.linspace(5, 25, 10, retstep=True)\n",
    "print x, dx"
   ]
  },
  {
   "cell_type": "markdown",
   "metadata": {},
   "source": [
    "#### Task 6.2\n",
    "\n",
    "Using `linspace`, create and print an array with 20 elements that goes from 20-30, along with the difference between each value.  Then, create an array that goes from 0.1 to 100 in 20 even steps on a logarithmic scale (check out the docstring for `logspace`)."
   ]
  },
  {
   "cell_type": "code",
   "execution_count": 36,
   "metadata": {
    "collapsed": false
   },
   "outputs": [
    {
     "name": "stdout",
     "output_type": "stream",
     "text": [
      "(array([ 20.        ,  20.52631579,  21.05263158,  21.57894737,\n",
      "        22.10526316,  22.63157895,  23.15789474,  23.68421053,\n",
      "        24.21052632,  24.73684211,  25.26315789,  25.78947368,\n",
      "        26.31578947,  26.84210526,  27.36842105,  27.89473684,\n",
      "        28.42105263,  28.94736842,  29.47368421,  30.        ]), 0.5263157894736842)\n",
      "[   0.1           0.14384499    0.20691381    0.29763514    0.42813324\n",
      "    0.61584821    0.88586679    1.27427499    1.83298071    2.6366509\n",
      "    3.79269019    5.45559478    7.8475997    11.28837892   16.23776739\n",
      "   23.35721469   33.59818286   48.32930239   69.51927962  100.        ]\n"
     ]
    }
   ],
   "source": [
    "print np.linspace(20, 30, 20, retstep = True)\n",
    "print np.logspace(-1, 2, 20)"
   ]
  },
  {
   "cell_type": "markdown",
   "metadata": {},
   "source": [
    "Further useful ways of creating arrays are the following... \n",
    "\n",
    "#### Task 6.3 \n",
    "Execute the following cell and write down what each (non-print) line does."
   ]
  },
  {
   "cell_type": "code",
   "execution_count": 114,
   "metadata": {
    "collapsed": false
   },
   "outputs": [
    {
     "name": "stdout",
     "output_type": "stream",
     "text": [
      "[ 0.  0.  0.  0.  0.  0.  0.  0.  0.  0.]\n",
      "[ 1.  1.  1.  1.  1.  1.  1.  1.  1.  1.  1.  1.  1.  1.  1.]\n",
      "[1 6 3 6 9 3 6 4 8 5]\n",
      "[0 0 0 0 0 0 0 0 0 0]\n",
      "[ 3.  6.  9.]\n"
     ]
    }
   ],
   "source": [
    "arr1 = np.zeros(10)\n",
    "print arr1 \n",
    "arr2 = np.ones(15)\n",
    "print arr2\n",
    "arr3 = np.array([1,6,3,6,9,3,6,4,8,5])\n",
    "print arr3\n",
    "arr4 = np.zeros_like(arr3)\n",
    "print arr4\n",
    "arr5 = np.array([3,6,9.])\n",
    "print arr5"
   ]
  },
  {
   "cell_type": "markdown",
   "metadata": {},
   "source": [
    "Double-click to edit me"
   ]
  },
  {
   "cell_type": "markdown",
   "metadata": {},
   "source": [
    "Once we have our array, we can perform operations on the whole thing at once, as we did at the beginning of this section where  we squared the array. To multiply `arr3` by 10, we simply do:"
   ]
  },
  {
   "cell_type": "code",
   "execution_count": 50,
   "metadata": {
    "collapsed": false
   },
   "outputs": [
    {
     "name": "stdout",
     "output_type": "stream",
     "text": [
      "[10 60 30 60 90 30 60 40 80 50]\n"
     ]
    }
   ],
   "source": [
    "print arr3*10"
   ]
  },
  {
   "cell_type": "markdown",
   "metadata": {},
   "source": [
    "<div class=\"alert alert-warning\" style=\"width: 60%; margin-left: 20%; margin-top:20px\">\n",
    "<p>**IMPORTANT!**</p>\n",
    "<p>Remember that, although multiplying a Python list by a number n produces a list with n copies of that list, multiplying a Numpy array by n returns an array in which each element is multiplied by that number.</p>\n",
    "</div>\n",
    "\n",
    "We can also index and slice the array, just as we did with lists:"
   ]
  },
  {
   "cell_type": "code",
   "execution_count": 113,
   "metadata": {
    "collapsed": false
   },
   "outputs": [
    {
     "name": "stdout",
     "output_type": "stream",
     "text": [
      "1\n",
      "[3 9 6]\n"
     ]
    }
   ],
   "source": [
    "print arr3[0]\n",
    "print arr3[2:8:2]"
   ]
  },
  {
   "cell_type": "markdown",
   "metadata": {},
   "source": [
    "However, note that in Numpy, the above slices are actually references to the original object in the computer's memory (not copies of the object, as is the behaviour for Python lists). \n",
    "\n",
    "Now take a look at the following:"
   ]
  },
  {
   "cell_type": "code",
   "execution_count": 53,
   "metadata": {
    "collapsed": false
   },
   "outputs": [
    {
     "data": {
      "text/plain": [
       "[<matplotlib.lines.Line2D at 0x2aaaddebfa50>]"
      ]
     },
     "execution_count": 53,
     "metadata": {},
     "output_type": "execute_result"
    },
    {
     "data": {
      "image/png": "[encoded data removed]",
      "text/plain": [
       "<matplotlib.figure.Figure at 0x2aaab2463e90>"
      ]
     },
     "metadata": {},
     "output_type": "display_data"
    }
   ],
   "source": [
    "import matplotlib.pyplot as plt\n",
    "%matplotlib inline\n",
    "plt.ion()\n",
    "\n",
    "x = np.linspace(0,20, 100)\n",
    "y = -0.003*x**3 + 0.1*x**2 - x\n",
    "plt.plot(x,y)"
   ]
  },
  {
   "cell_type": "markdown",
   "metadata": {},
   "source": [
    "On line 1 we have imported the `matplotlib` plotting library into the namespace `plt`.  Ignore lines 2 and 3 for now. We have then on line 5 created an array of sequencial numbers `x`, fed them into a \n",
    "cubic polynomial to produce values `y`, and then plotted `y` versus `x`. Note that the range of the plot axes are chosen automatically, but these can be changed, as we'll see later.  \n",
    "\n",
    "\n",
    "#### Task 6.4\n",
    "\n",
    "Create an array `t` that increases from 0 to $2\\pi$ in a suitable number of steps, and plot $y=sin(t)$."
   ]
  },
  {
   "cell_type": "code",
   "execution_count": 80,
   "metadata": {
    "collapsed": false
   },
   "outputs": [
    {
     "data": {
      "text/plain": [
       "[<matplotlib.lines.Line2D at 0x2aaade072590>]"
      ]
     },
     "execution_count": 80,
     "metadata": {},
     "output_type": "execute_result"
    },
    {
     "data": {
      "image/png": "[encoded data removed]",
      "text/plain": [
       "<matplotlib.figure.Figure at 0x2aaaddef6c90>"
      ]
     },
     "metadata": {},
     "output_type": "display_data"
    }
   ],
   "source": [
    "x = np.linspace(0, 2*np.pi, 628)\n",
    "y = np.sin(x)\n",
    "plt.plot(x,y)"
   ]
  },
  {
   "cell_type": "markdown",
   "metadata": {},
   "source": [
    "#### Task 6.5\n",
    "\n",
    "Try a few different functions, and plot them.  Numpy has quite a library to choose from!"
   ]
  },
  {
   "cell_type": "code",
   "execution_count": 82,
   "metadata": {
    "collapsed": false
   },
   "outputs": [
    {
     "data": {
      "text/plain": [
       "[<matplotlib.lines.Line2D at 0x2aaade1d6310>]"
      ]
     },
     "execution_count": 82,
     "metadata": {},
     "output_type": "execute_result"
    },
    {
     "data": {
      "image/png": "[encoded data removed]",
      "text/plain": [
       "<matplotlib.figure.Figure at 0x2aaaddf68590>"
      ]
     },
     "metadata": {},
     "output_type": "display_data"
    }
   ],
   "source": [
    "x = np.linspace(0, 2*np.pi, 6280)\n",
    "y = np.tan(x)\n",
    "plt.plot(x,y)"
   ]
  },
  {
   "cell_type": "code",
   "execution_count": 95,
   "metadata": {
    "collapsed": false
   },
   "outputs": [
    {
     "data": {
      "text/plain": [
       "[<matplotlib.lines.Line2D at 0x2aaade8ac950>]"
      ]
     },
     "execution_count": 95,
     "metadata": {},
     "output_type": "execute_result"
    },
    {
     "data": {
      "image/png": "[encoded data removed]",
      "text/plain": [
       "<matplotlib.figure.Figure at 0x2aaade712390>"
      ]
     },
     "metadata": {},
     "output_type": "display_data"
    }
   ],
   "source": [
    "x = np.linspace(-5, 5, 628)\n",
    "y = 1/x\n",
    "plt.plot(x,y)"
   ]
  },
  {
   "cell_type": "code",
   "execution_count": 107,
   "metadata": {
    "collapsed": false
   },
   "outputs": [
    {
     "name": "stderr",
     "output_type": "stream",
     "text": [
      "/cm/shared/apps/python/2.7.9/lib/python2.7/site-packages/ipykernel/__main__.py:2: RuntimeWarning: divide by zero encountered in log\n",
      "  from ipykernel import kernelapp as app\n"
     ]
    },
    {
     "data": {
      "text/plain": [
       "[<matplotlib.lines.Line2D at 0x2aaadefde190>]"
      ]
     },
     "execution_count": 107,
     "metadata": {},
     "output_type": "execute_result"
    },
    {
     "data": {
      "image/png": "[encoded data removed]",
      "text/plain": [
       "<matplotlib.figure.Figure at 0x2aaadef3b4d0>"
      ]
     },
     "metadata": {},
     "output_type": "display_data"
    }
   ],
   "source": [
    "x = np.linspace(0, 2*np.pi, 628)\n",
    "y = np.log(x)\n",
    "plt.plot(x,y)"
   ]
  },
  {
   "cell_type": "code",
   "execution_count": 98,
   "metadata": {
    "collapsed": false
   },
   "outputs": [
    {
     "data": {
      "text/plain": [
       "[<matplotlib.lines.Line2D at 0x2aaadeab5f10>]"
      ]
     },
     "execution_count": 98,
     "metadata": {},
     "output_type": "execute_result"
    },
    {
     "data": {
      "image/png": "[encoded data removed]",
      "text/plain": [
       "<matplotlib.figure.Figure at 0x2aaade99d310>"
      ]
     },
     "metadata": {},
     "output_type": "display_data"
    }
   ],
   "source": [
    "x = np.linspace(0, 2*np.pi, 628)\n",
    "y = np.e**(x)\n",
    "plt.plot(x,y)"
   ]
  },
  {
   "cell_type": "markdown",
   "metadata": {},
   "source": [
    "Because the looping over Numpy arrays occurs in fast code behind the scenes, it is a golden rule that the ponderous Python loops should be avoided where at all possible, in favour of Numpy's functions.  This is clearly not always possible, but it's worth trying to limit their use as much as possible.\n",
    "\n",
    "<div class=\"alert alert-warning\" style=\"width: 60%; margin-left: 20%; margin-top:20px\">\n",
    "<p>**IMPORTANT!**</p>\n",
    "<p>Loops are evil!</p>\n",
    "</div>\n",
    "\n"
   ]
  },
  {
   "cell_type": "markdown",
   "metadata": {},
   "source": [
    "#### Task 6.6\n",
    "Now use Numpy functions to re-write your factorial code and your trapezium rule integration, both in one line!"
   ]
  },
  {
   "cell_type": "code",
   "execution_count": 178,
   "metadata": {
    "collapsed": false
   },
   "outputs": [
    {
     "name": "stdout",
     "output_type": "stream",
     "text": [
      "5040.0\n",
      "335.0\n"
     ]
    }
   ],
   "source": [
    "def fact(x):\n",
    "    \"\"\"find the factorial of x which must be an integer\"\"\"\n",
    "    return np.prod(np.linspace(1, x, x))\n",
    "\n",
    "print fact(7)\n",
    "\n",
    "def trap(y, x):\n",
    "    \"\"\"integrate by trapezium rule over y = x**2 from int to int \"\"\"\n",
    "    print np.trapz(np.linspace(y, x, x - y +1)**2, np.linspace(y, x, x - y + 1))\n",
    "    \n",
    "    \n",
    "trap(0,10)"
   ]
  },
  {
   "cell_type": "code",
   "execution_count": 180,
   "metadata": {
    "collapsed": false
   },
   "outputs": [
    {
     "ename": "AttributeError",
     "evalue": "'module' object has no attribute 'factorial'",
     "output_type": "error",
     "traceback": [
      "\u001b[1;31m---------------------------------------------------------------------------\u001b[0m",
      "\u001b[1;31mAttributeError\u001b[0m                            Traceback (most recent call last)",
      "\u001b[1;32m<ipython-input-180-ba62f1b627a2>\u001b[0m in \u001b[0;36m<module>\u001b[1;34m()\u001b[0m\n\u001b[1;32m----> 1\u001b[1;33m \u001b[0mnp\u001b[0m\u001b[1;33m.\u001b[0m\u001b[0mfactorial\u001b[0m\u001b[1;33m(\u001b[0m\u001b[1;36m5\u001b[0m\u001b[1;33m)\u001b[0m\u001b[1;33m\u001b[0m\u001b[0m\n\u001b[0m",
      "\u001b[1;31mAttributeError\u001b[0m: 'module' object has no attribute 'factorial'"
     ]
    }
   ],
   "source": []
  },
  {
   "cell_type": "code",
   "execution_count": null,
   "metadata": {
    "collapsed": true
   },
   "outputs": [],
   "source": [
    ".multiply"
   ]
  },
  {
   "cell_type": "markdown",
   "metadata": {},
   "source": [
    "#### Task 6.7\n",
    "Let's have a look at conditions again: Execute the following cell and write down what is happening."
   ]
  },
  {
   "cell_type": "code",
   "execution_count": 191,
   "metadata": {
    "collapsed": false,
    "scrolled": true
   },
   "outputs": [
    {
     "name": "stdout",
     "output_type": "stream",
     "text": [
      "[ 0  2  4  6  8 10 12 14 16 18]\n",
      "[False False False False False False  True  True  True  True] 1234\n",
      "[12 14 16 18]\n",
      "[6 7 8 9]\n",
      "['Hamster' 'Hamster' 'Hamster' 'Hamster' 'Hamster' 'Hamster' 'Hamster'\n",
      " 'Hamster' 'Hamster' 'Hamster']\n",
      "['Elderberries' 'Elderberries' 'Elderberries' 'Elderberries' 'Elderberries'\n",
      " 'Elderberries' 'Hamster' 'Hamster' 'Hamster' 'Hamster']\n"
     ]
    }
   ],
   "source": [
    "x = np.arange(10)*2\n",
    "#sets up an array of integers 0-9 inclusive and squares them\n",
    "print x\n",
    "inx = x > 10\n",
    "#creates a list of the results of a boolean test if elements in ndarray > 10\n",
    "print inx\n",
    "print x[inx]\n",
    "#prints the elemants of array x that > 10\n",
    "print np.where(inx)[0]\n",
    "#prints the indicies where x > 10\n",
    "\n",
    "y = np.tile('Hamster', 10)\n",
    "z = np.tile('Elderberries', 10)\n",
    "#create an array of 10 \"Hamster\"/\"Elderberies\"\n",
    "print y\n",
    "print np.where(inx, y, z)\n",
    "#print an array where if inx = True then y if inx = False the z"
   ]
  },
  {
   "cell_type": "markdown",
   "metadata": {},
   "source": [
    "Double-click to edit me"
   ]
  },
  {
   "cell_type": "markdown",
   "metadata": {},
   "source": [
    "One-dimensional arrays are sometimes called *vectors*, as they can be compared directly to these mathematical constructs.  However, it must be noted that array operations do not always correspond to vector operations.  For vector addition, we are OK:"
   ]
  },
  {
   "cell_type": "code",
   "execution_count": 192,
   "metadata": {
    "collapsed": false
   },
   "outputs": [
    {
     "name": "stdout",
     "output_type": "stream",
     "text": [
      "[ 4 11  6]\n"
     ]
    }
   ],
   "source": [
    "x = np.array([3,5,4])\n",
    "y = np.array([1,6,2])\n",
    "print x + y"
   ]
  },
  {
   "cell_type": "markdown",
   "metadata": {},
   "source": [
    "As mentioned above, the elements are operated on element-wise, i.e. the first elements are summed, the second are summed, etc.  This corresponds to the rules of vector addition.  However, for vector multiplication, there are two methods: taking the scalar (dot) and vector (cross) products, each with a different physical meaning, as has been covered in the Maths course.  Let's see what happens when we multiply two arrays together:"
   ]
  },
  {
   "cell_type": "code",
   "execution_count": null,
   "metadata": {
    "collapsed": false
   },
   "outputs": [],
   "source": [
    "print x*y"
   ]
  },
  {
   "cell_type": "markdown",
   "metadata": {},
   "source": [
    "Note again that operations proceed element-wise.  If we want scalar and vector multiplication, we use Numpy functions:"
   ]
  },
  {
   "cell_type": "code",
   "execution_count": null,
   "metadata": {
    "collapsed": false
   },
   "outputs": [],
   "source": [
    "print np.dot(x,y)\n",
    "print np.cross(x,y)"
   ]
  },
  {
   "cell_type": "markdown",
   "metadata": {},
   "source": [
    "You can easily verify by hand that these results are as we expect.  \n",
    "\n",
    "#### Task 6.8\n",
    "\n",
    "An electron is moving with a velocity $\\mathbf{v}(x,y,z)=(3.4,2.5,5.5)\\;\\mathrm{km\\,s^{-1}}$ a region of space in which the magnetic field vector is $\\mathbf{B}(x,y,z)=(5.4,8.2,6.5)\\;\\mathrm{nT}$ and the electric field is zero.  Calculate the acceleration due to the Lorentz force experienced by the electron."
   ]
  },
  {
   "cell_type": "code",
   "execution_count": 200,
   "metadata": {
    "collapsed": false
   },
   "outputs": [
    {
     "name": "stdout",
     "output_type": "stream",
     "text": [
      "[-5078868.13186813  1337934.06593407  2531512.08791209]\n"
     ]
    }
   ],
   "source": [
    "v = np.array([3.4, 2.5, 5.5])*1000\n",
    "b = np.array([5.4, 8.2, 6.5])*1e-9\n",
    "\n",
    "a = 1.602e-19*(np.cross(v, b))/9.1e-31\n",
    "print a"
   ]
  },
  {
   "cell_type": "markdown",
   "metadata": {},
   "source": [
    "<div class=\"alert alert-danger\" style=\"width: 60%; margin-left: 20%; margin-top:20px\">\n",
    "<p>**Checkpoint: Please have the above marked and signed off by a demonstrator before continuing**</p>\n",
    "</div>"
   ]
  }
 ],
 "metadata": {
  "kernelspec": {
   "display_name": "Python 2",
   "language": "python",
   "name": "python2"
  },
  "language_info": {
   "codemirror_mode": {
    "name": "ipython",
    "version": 2
   },
   "file_extension": ".py",
   "mimetype": "text/x-python",
   "name": "python",
   "nbconvert_exporter": "python",
   "pygments_lexer": "ipython2",
   "version": "2.7.12"
  }
 },
 "nbformat": 4,
 "nbformat_minor": 0
}
