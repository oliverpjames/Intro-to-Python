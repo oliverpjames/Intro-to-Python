{
 "cells": [
  {
   "cell_type": "markdown",
   "metadata": {},
   "source": [
    "<div class=\"clearfix\" style=\"padding: 10px; padding-left: 0px\">\n",
    "<img src=\"unilogoblack.jpeg\" width=\"250px\" style=\"display: inline-block; margin-top: 5px;\">\n",
    "<a href=\"http://www.python.org\"><img src=\"Python-logo-notext.svg\" width=\"70px\" class=\"pull-right\" style=\"display: inline-block; margin: 0px;\"></a>\n",
    "</div>\n",
    "\n",
    "\n",
    "# Basic Scientific Python\n",
    "\n",
    "J. D. Nichols 2015\n",
    "\n",
    "\n",
    "## Section 2: Types and identifiers\n",
    "\n",
    "### Types\n",
    "\n",
    "Computer languages deal with different kinds of data, e.g. numbers or collections of letters. The \"type\" is simply the kind of thing that a nugget of data represents.  For example, one Python type is `int`, short for \"integer\", i.e. a whole number. Let's see what this means.  Execute the following cell...\n",
    "\n"
   ]
  },
  {
   "cell_type": "code",
   "execution_count": 1,
   "metadata": {
    "collapsed": false
   },
   "outputs": [],
   "source": [
    "t = 5"
   ]
  },
  {
   "cell_type": "markdown",
   "metadata": {},
   "source": [
    "OK, not much has visibly happened! However, what has occurred is that behind the scenes a piece of data with the label '`t`' has been set to be equal to the integer 5.  \n",
    "\n",
    "<div class=\"alert alert-info\" style=\"width: 60%; margin-left: 20%; margin-top:20px\">\n",
    "<p>**HINT**</p>\n",
    "<p>The spaces between the characters are not required, but it is conventional to use such \"whitespace\" to aid readability of code.  There are other conventions that we will meet along the way.</p>\n",
    "</div>\n",
    "\n",
    "<div class=\"alert alert-warning\" style=\"width: 60%; margin-left: 20%; margin-top:20px\">\n",
    "<p>**IMPORTANT!**</p>\n",
    "<p>The \"=\" sign in this case does not imply equality!</p>\n",
    "</div>\n",
    "\n",
    "A statement like\n",
    "\n",
    "\n",
    "```python\n",
    "l = r\n",
    "```\n",
    "\n",
    "should be read \"take whatever is on the right hand side (`r`) and then set the left hand side (`l`) to be equal to it.\" There are some subtleties to this that we will discuss shortly, but for now, we simply note that the variable `t` has been given the value 5, and is thus of type `int`. This can be verified by executing the following code:"
   ]
  },
  {
   "cell_type": "code",
   "execution_count": 2,
   "metadata": {
    "collapsed": false
   },
   "outputs": [
    {
     "name": "stdout",
     "output_type": "stream",
     "text": [
      "5\n",
      "<type 'int'>\n"
     ]
    }
   ],
   "source": [
    "print t\n",
    "print type(t)"
   ]
  },
  {
   "cell_type": "markdown",
   "metadata": {},
   "source": [
    "Note that we didn't *need* to use a `print` command here; we could have just used the following:\n",
    "```python\n",
    "t\n",
    "```\n",
    "Simply typing the variable works here and in the interpreter, but the `print` syntax is needed in scripts, so we will use the `print` command.\n",
    "\n",
    "<div class=\"alert alert-success\" style=\"width: 60%; margin-left: 20%; margin-top:20px\">\n",
    "<p>**INFO**</p>\n",
    "<p>Note also that we did not need to 'declare' the variable t before its use.  Such declarations are required in e.g. C and Fortran, and is a requirement that goes some way to explaining their high speed relative to Python. These languages are \"*statically-typed*\", which means that a variable type cannot be changed once it's created - once an int always an int - but Python is an example of a \"*dynamically-typed*\" language, in which the type of a variable can be assigned and changed as required by the operation that is being executed.  This requires testing of data types and assigning memory on the fly, slowing the code down. However, from our point of view we can simply and easily tell the computer that t is 5, and change this to 5.00, '5', 'five', or even 'Lumberjack' if we wish. </p>\n",
    "</div>\n",
    "\n",
    "\n",
    "Integers have a range between $\\pm2^{31}$, but in practice if they are required to be longer than this they will be cast dynamically (i.e. changed) into a related type called a `long` integer denoted by a suffix \"L\" after the number, which takes up more memory per object, but for all practical purposes is unbounded.  So, what operations can we do with `int`s?  Well, for a start we can apply all the mathematical operators, as we might expect using the following characters: \n",
    "\n",
    "| Operator       | Character |\n",
    "|----------------|-----------|\n",
    "| $+$            | +         |\n",
    "| $-$            | -         |\n",
    "| $\\times$       | *         |\n",
    "| $\\div$         | /         |\n",
    "| Exponentiation | `**`      |\n",
    "\n",
    "Operators are executed in the standard BODMAS order, i.e. brackets, of, division, multiplication, addition, subtraction. For example, execute the following:"
   ]
  },
  {
   "cell_type": "code",
   "execution_count": 3,
   "metadata": {
    "collapsed": false
   },
   "outputs": [
    {
     "name": "stdout",
     "output_type": "stream",
     "text": [
      "4\n"
     ]
    }
   ],
   "source": [
    "print (5 + 3)/2"
   ]
  },
  {
   "cell_type": "markdown",
   "metadata": {},
   "source": [
    "#### Task 2.1\n",
    "Try all the operators, using both odd and even numbers.  Do they all work as you might expect? Where does the exponentiation operator fit in the order? What does the operator `%` placed between two integers do?  Write down your findings in the cell below."
   ]
  },
  {
   "cell_type": "code",
   "execution_count": 13,
   "metadata": {
    "collapsed": false
   },
   "outputs": [
    {
     "data": {
      "text/plain": [
       "-2"
      ]
     },
     "execution_count": 13,
     "metadata": {},
     "output_type": "execute_result"
    }
   ],
   "source": [
    "2 + 2\n",
    "2 + 3\n",
    "3 + 2\n",
    "2 - 2\n",
    "2 - 3\n",
    "3 - 2\n",
    "2 * 2\n",
    "2 * 3\n",
    "3 * 2\n",
    "2 / 2\n",
    "3 / 2\n",
    "3 / 2\n",
    "2 ** 2\n",
    "2 ** 3\n",
    "3 ** 2\n",
    "2 % 2\n",
    "2 % 3\n",
    "3 % 2\n",
    "2 + -2\n",
    "2 + -3\n",
    "3 + -2\n",
    "2 - -2\n",
    "2 - -3\n",
    "3 - -2\n",
    "2 * -2\n",
    "2 * -3\n",
    "3 * -2\n",
    "2 / -2\n",
    "3 / -2\n",
    "3 / -2\n",
    "#2 ** -2\n",
    "#2 ** -3\n",
    "#3 ** -2\n",
    "#2 % -2\n",
    "#2 % -3\n",
    "#3 % -2"
   ]
  },
  {
   "cell_type": "markdown",
   "metadata": {},
   "source": [
    "(**)\n",
    "**, +, -, and, *  all act as expected \n",
    "\n",
    "/ always rounds down\n",
    "\n",
    "% does / and returns the remainder\n",
    "\n",
    "In this box ** emboldens everything between two ** or until end of paragraph"
   ]
  },
  {
   "cell_type": "markdown",
   "metadata": {},
   "source": [
    "Let's look at a simple piece of code that produces a list of numbers increasing from 0 to 9, doubles them, and prints the result."
   ]
  },
  {
   "cell_type": "code",
   "execution_count": null,
   "metadata": {
    "collapsed": false
   },
   "outputs": [],
   "source": [
    "for x in range(10):\n",
    "    y = 2*x\n",
    "    print x, y"
   ]
  },
  {
   "cell_type": "markdown",
   "metadata": {},
   "source": [
    "Don't worry too much about the form of this piece of code yet, we will cover `for` loops (for this is what it is) in more detail later. For now, note that the first line sets up a sequence of numbers increasing from 0 to 9, and says \"in the code indented below, temporarily assign the variable `x` to each of these values in succession\". The indented block of code is then executed 10 times, with `x` being incremented each time. The code in the indented block takes the value of `x`, doubles it, assigns it to the variable `y`, and then prints both `x` and `y`.  The result is a list of numbers (the command to move to a new line each time is implicit in the `print` command)."
   ]
  },
  {
   "cell_type": "markdown",
   "metadata": {},
   "source": [
    "#### Task 2.2\n",
    "Write a piece of code that prints the first twenty orders of magnitude numbers (1, 10, 100, etc...) on separate lines.\n"
   ]
  },
  {
   "cell_type": "code",
   "execution_count": 38,
   "metadata": {
    "collapsed": false
   },
   "outputs": [
    {
     "name": "stdout",
     "output_type": "stream",
     "text": [
      "1     10 ** 0\n",
      "10     10 ** 1\n",
      "100     10 ** 2\n",
      "1000     10 ** 3\n",
      "10000     10 ** 4\n",
      "100000     10 ** 5\n",
      "1000000     10 ** 6\n",
      "10000000     10 ** 7\n",
      "100000000     10 ** 8\n",
      "1000000000     10 ** 9\n",
      "10000000000     10 ** 10\n",
      "100000000000     10 ** 11\n",
      "1000000000000     10 ** 12\n",
      "10000000000000     10 ** 13\n",
      "100000000000000     10 ** 14\n",
      "1000000000000000     10 ** 15\n",
      "10000000000000000     10 ** 16\n",
      "100000000000000000     10 ** 17\n",
      "1000000000000000000     10 ** 18\n",
      "10000000000000000000     10 ** 19\n"
     ]
    },
    {
     "data": {
      "text/plain": [
       "'initializes a loop at i = 0,\\n    prints 10^i etc.\\n    adds one to i\\n    goes through loop 20 times in total'"
      ]
     },
     "execution_count": 38,
     "metadata": {},
     "output_type": "execute_result"
    }
   ],
   "source": [
    "for i in range(20):\n",
    "    print 10**i, \"    10 **\", i\n",
    "\"\"\"initializes a loop at i = 0,\n",
    "    prints 10^i etc. on one line,\n",
    "    returns to a new line and adds one to i,\n",
    "    repeats while i < 20 = True\"\"\""
   ]
  },
  {
   "cell_type": "markdown",
   "metadata": {},
   "source": [
    "There are other types of variable available 'built-in' to Python:\n",
    "\n",
    "* `float`: short for \"floating point\", or variables that *approximate* real numbers;\n",
    "* `long`: long integer;\n",
    "* `bool`: Boolean logic values `True` or `False`;\n",
    "* `complex`: complex numbers with the complex part denoted by `j` (**not** i!), e.g. `c = 2.3+5.2j`.\n",
    "\n",
    "Floating point numbers can be easily assigned to variables by either ensuring that the number in the assignment contains a decimal point \".\", or using the exponent notation: 273.5, 2.735E2, 0.2735E3, and 2735.E-1 are all the same floating point number. In most systems, the default range for `floats` is $\\pm10^{-308}$ to $\\pm10^{308}$ (if you are familiar with C or Fortran, note that this corresponds to the `double` and `real*8` precision in those languages, respectively). This range should cover most physics calculations!\n",
    "\n",
    "<div class=\"alert alert-success\" style=\"width: 60%; margin-left: 20%; margin-top:20px\">\n",
    "<p>**INFO**</p>\n",
    "<p>Floating point variables do not exactly represent real numbers, since not all real numbers can be represented by a finite number of binary digits, to which all computer variables must ultimately be reduced.  For example, the decimal of the binary digit representation of the number 0.1 is actually 0.1000000000000000055511151231257827021181583404541015625!  When printed, this is truncated by Python to 0.1, but it should be remembered that it is the above number that is employed in operations, not 0.1.  For many applications, however, the fact that binary floating point variables do not exactly represent real numbers at this high precision is not a major concern. There are occasions when this is important, however, and operations such as comparing the size of two floating point numbers can yield unexpected results at times.  For this reason, some applications, such as keeping track of money in bank accounts, for example, is always done using ints.  For more information, see [the Python docs](https://docs.python.org/2/tutorial/floatingpoint.html).</p>\n",
    "</div>\n",
    "\n",
    "#### Task 2.3\n",
    "Assign two variables to floating points, perfom operations between them, and print the results in the cell below. How do the results differ from those above?  What happens if you perform an operation between a `float` and an `int`?"
   ]
  },
  {
   "cell_type": "code",
   "execution_count": 52,
   "metadata": {
    "collapsed": false
   },
   "outputs": [
    {
     "name": "stdout",
     "output_type": "stream",
     "text": [
      "0.666666666667\n"
     ]
    }
   ],
   "source": [
    "a = float(2)\n",
    "b = float(3)\n",
    "c = 2\n",
    "d = 3\n",
    "print a/b*1"
   ]
  },
  {
   "cell_type": "markdown",
   "metadata": {},
   "source": [
    "(**) \n",
    "**, *, +, - and, % act the same but print the answer as a float not as an integer\n",
    "\n",
    "/ now gives the answer to decimal to 16 s.f. with the last number unrounded\n",
    "\n",
    "when print function is used only 12 s.f. are given but the last number is rounded"
   ]
  },
  {
   "cell_type": "markdown",
   "metadata": {},
   "source": [
    "Strings are groups of alphanumeric characters, assigned to variables by enclosing them within inverted commas, such as:\n",
    "```python\n",
    "x = 'Spam, spam, spam'\n",
    "y = \"Sausage, egg, and spam\"\n",
    "z = \"\"\"Spam,\n",
    "        spam, spam,\n",
    "        sausage, and spam\"\"\"\n",
    "        ```\n",
    "Single and double inverted commas are both usable (as long as you are consistent), but note that the triple version preserves the layout, such that you don't have to manually end each line with a new line delimiter \"\\n\". Try executing the above lines below."
   ]
  },
  {
   "cell_type": "code",
   "execution_count": 55,
   "metadata": {
    "collapsed": false
   },
   "outputs": [],
   "source": [
    "x = 'Spam, spam, spam'"
   ]
  },
  {
   "cell_type": "markdown",
   "metadata": {},
   "source": [
    "Operations can also be performed on strings. \n",
    "\n",
    "#### Task 2.4\n",
    "Execute the following, and write down what is happening in each case."
   ]
  },
  {
   "cell_type": "code",
   "execution_count": 61,
   "metadata": {
    "collapsed": false
   },
   "outputs": [
    {
     "name": "stdout",
     "output_type": "stream",
     "text": [
      "Spam, spam, spam\n",
      "S\n",
      "spam\n",
      "pam\n",
      "Spam, spam, spamSpam, spam, spamSpam, spam, spam\n",
      "Spam, spam, spam please!\n"
     ]
    }
   ],
   "source": [
    "print x\n",
    "print x[0]\n",
    "print x[6:10]\n",
    "print x[13:]\n",
    "print x*3\n",
    "print x + \" please!\""
   ]
  },
  {
   "cell_type": "markdown",
   "metadata": {},
   "source": [
    "write write spam, spam, spam\n",
    "write first character of string\n",
    "write character's 7-10\n",
    "write characters 14 and later\n",
    "write write spam, spam, spam 3 times\n",
    "write spam, spam, spam please!"
   ]
  },
  {
   "cell_type": "markdown",
   "metadata": {},
   "source": [
    "We will come back to the syntax involving the square brackets soon.  Strings have many other features that can be used to manipulate them, as we'll go on to explore.  For now, keep in mind that strings can be used to output messages to a terminal or a plot, or input parameters to the code.\n",
    "\n",
    "Boolean data types are extremely useful for *conditional execution*, i.e. executing a piece of code only if certain conditions are met. This is one of the fundamental tennets of coding, and we will find out how to do this later.  For now, we note that Boolean data types are returned from operations involving the comparison operators as given in the following table:\n",
    "\n",
    "| Operator | Character                   |\n",
    "|----------|-----------------------------|\n",
    "| $==$     | is equal to                 |\n",
    "| $!=$     | is not equal to             |\n",
    "| $>$      | is greater than             |\n",
    "| $>=$     | is greater than or equal to |\n",
    "| $<$      | is less than                |\n",
    "| $<=$     | is less than or equal to    |\n",
    "\n",
    "and can be used using standard  Boolean logic (`and`, `or` and `not`). For example try out:\n"
   ]
  },
  {
   "cell_type": "code",
   "execution_count": 62,
   "metadata": {
    "collapsed": false
   },
   "outputs": [
    {
     "name": "stdout",
     "output_type": "stream",
     "text": [
      "True\n",
      "12 12 12\n",
      "True\n"
     ]
    }
   ],
   "source": [
    "a = 3\n",
    "b = 6\n",
    "c = 9\n",
    "print a < b\n",
    "d = e = f = 12\n",
    "print d, e, f\n",
    "print d == e == f"
   ]
  },
  {
   "cell_type": "markdown",
   "metadata": {},
   "source": [
    "The Boolean operators can be denoted using the words `and`, `or`, etc. but under ceertain conditions they can also be used using the following symbols:\n",
    "\n",
    "| Operator | Boolean operator        |\n",
    "|----------|-------------------------|\n",
    "|  &       | AND                     |\n",
    "|  &#124;  | OR                      |\n",
    "|  !       | NOT (we met this above) |\n",
    "\n",
    "Comparisons can then be chained together, as in:\n",
    "\n",
    "```python\n",
    "print (a <= b/2) | (b > c)\n",
    "```\n",
    "\n",
    "In order to use the symbols `|` and `&` here, we need to use the parentheses as above (we do not if we use `and`).  Note that it is always good practice to surround comparisons with parentheses, to remove any unwanted ambiguity (what happens when the brackets are removed?), but in this case it is required.  This is because there is actually a difference between the meanings of `and` and `&`; technically, the former is a boolean operation but the latter is a *bitwise* operation, but we do not need to worry too much about this here. \n",
    "\n",
    "<div class=\"alert alert-info\" style=\"width: 60%; margin-left: 20%; margin-top:20px\">\n",
    "<p>**HINT**</p>\n",
    "<p>Always use brackets to avoid ambiguity</p>\n",
    "</div>"
   ]
  },
  {
   "cell_type": "markdown",
   "metadata": {},
   "source": [
    "#### Task 2.5\n",
    "In the following cell, write a `for` loop that, for each integer between 0-20, prints `True` if that number is even and greater than or equal to 10, or `False` if not. HINT: what did the % operator do?"
   ]
  },
  {
   "cell_type": "code",
   "execution_count": 66,
   "metadata": {
    "collapsed": false
   },
   "outputs": [
    {
     "name": "stdout",
     "output_type": "stream",
     "text": [
      "0 False\n",
      "1 False\n",
      "2 False\n",
      "3 False\n",
      "4 False\n",
      "5 False\n",
      "6 False\n",
      "7 False\n",
      "8 False\n",
      "9 False\n",
      "10 True\n",
      "11 False\n",
      "12 True\n",
      "13 False\n",
      "14 True\n",
      "15 False\n",
      "16 True\n",
      "17 False\n",
      "18 True\n",
      "19 False\n",
      "20 True\n"
     ]
    }
   ],
   "source": [
    "for i in range (21):\n",
    "    print i, (i >= 10) & (i % 2 == 0)"
   ]
  },
  {
   "cell_type": "markdown",
   "metadata": {},
   "source": [
    "initializes for loop at i = 0\n",
    "tests if i >= 10, and if i is divisible by 2\n",
    "if both are true prints true, else prints false\n",
    "adds one to i and repeats till i = 21 where it exits the loop"
   ]
  },
  {
   "cell_type": "markdown",
   "metadata": {},
   "source": [
    "### Identifiers\n",
    "\n",
    "What does \"identifiers\" mean? In the above, we have used variable names (`a`, `b`, etc.) to refer to objects stored in the computer's memory, each of which have their own type, `int`, `float`, `string`, etc.  The variable names are called *identifiers*, and, along with the type are a second attribute of an object.  Identifiers can be of any length, and can contain letters (a-z), numerals (0-9), and underscores (_), although they must begin with either a letter or an underscore, and they are case sensitive, i.e. `a!=A`.\n",
    "\n",
    "<div class=\"alert alert-info\" style=\"width: 60%; margin-left: 20%; margin-top:20px\">\n",
    "<p>**HINT**</p>\n",
    "<p>Although identifiers can be any length, keep in mind the readability of your code. Which of the following is more readable?<br/><br/>\n",
    "Thenumberofthecountshallbethree = 3<br/>\n",
    "ncount = 3<br/><br/>\n",
    "However, do not truncate words too much without liberal use of *comments*, which are dealt with below. Also, do not start identifiers with underscores *unless you are sure that you know what you are doing*, as many of these have special meanings. It is desirable to avoid simply using a lower case \"l\" for Lima, upper case \"O\" for Oscar and upper case \"I\" for Indigo, as these can look like the numbers 1 and 0 in some fonts.  Finally, make sure your identifiers do not replicate either system variables or names used for Modules or functions - the latter comes with practice, as you learn more of these (and indeed write your own!).\n",
    "</p>\n",
    "</div>\n",
    "\n",
    "Identifiers are like PO Boxes; they are not the object itself, nor are they the actual address of where the object is held in the computer's memory (this is usually a bunch of alphanumeric characters representing a hexadecimal value). To understand this, execute the following code, line by line, in the next cell:\n",
    "\n",
    "```python\n",
    "a = 5\n",
    "print a\n",
    "b = a\n",
    "print b\n",
    "a = 25\n",
    "print a, b\n",
    "```"
   ]
  },
  {
   "cell_type": "code",
   "execution_count": 69,
   "metadata": {
    "collapsed": false
   },
   "outputs": [
    {
     "name": "stdout",
     "output_type": "stream",
     "text": [
      "5\n",
      "5\n",
      "25 5\n"
     ]
    }
   ],
   "source": [
    "a = 5\n",
    "print a\n",
    "b = a\n",
    "print b\n",
    "a = 25\n",
    "print a, b"
   ]
  },
  {
   "cell_type": "markdown",
   "metadata": {},
   "source": [
    "What we are doing is that we are first assigning the identifier `a` to an integer object, whose value is 5. We then assign `b` to point to the same integer object as does `a`, not the indentifier `a` itself. Hence, after we re-assign the identifer `a` to a different integer object, whose value is 25, `b` still points to the original integer object held in the computer's memory.  This object will stay in the computer's memory until it is no longer assigned to any identifier, when it is automatically expunged by Python's *garbage collection* process. This subtlety becomes particularly important when we are dealing with more complex objects than `int`s, and when we are passing data between different parts of the code."
   ]
  },
  {
   "cell_type": "markdown",
   "metadata": {},
   "source": [
    "#### Task 2.6\n",
    "In the cell below, write down some appropriate identifiers for the following physical constants:\n",
    "\n",
    "* Boltzmann's constant\n",
    "* The speed of light in a vacuum\n",
    "* Avagadro's number\n",
    "* Pi\n",
    "* The mass of an electron\n",
    "* The mass of the Earth\n",
    "</div>"
   ]
  },
  {
   "cell_type": "markdown",
   "metadata": {},
   "source": [
    "k_boltz = 1.381*10**-23\n",
    "c = 2.998*10**8\n",
    "Na = 6.022*10**23\n",
    "pi = 3.14\n",
    "m_electron = 9.109*10**-31\n",
    "m_earth = 5.97*10**24"
   ]
  },
  {
   "cell_type": "markdown",
   "metadata": {},
   "source": [
    "<div class=\"alert alert-danger\" style=\"width: 60%; margin-left: 20%; margin-top:20px\">\n",
    "<p>**Checkpoint: Please have the above marked and signed off by a demonstrator before continuing**</p>\n",
    "</div>"
   ]
  }
 ],
 "metadata": {
  "kernelspec": {
   "display_name": "Python 2",
   "language": "python",
   "name": "python2"
  },
  "language_info": {
   "codemirror_mode": {
    "name": "ipython",
    "version": 2
   },
   "file_extension": ".py",
   "mimetype": "text/x-python",
   "name": "python",
   "nbconvert_exporter": "python",
   "pygments_lexer": "ipython2",
   "version": "2.7.9"
  }
 },
 "nbformat": 4,
 "nbformat_minor": 0
}
